{
 "metadata": {
  "name": "",
  "signature": "sha256:d4453c4cd31e2412acdc65d485cdd185c32d0c55f2aa046b16a1b7deea6c3b8f"
 },
 "nbformat": 3,
 "nbformat_minor": 0,
 "worksheets": []
}