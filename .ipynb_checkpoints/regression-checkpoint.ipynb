{
 "metadata": {
  "name": "",
  "signature": "sha256:6fdcb65b32fd4153c5b03f66bbf70e311738ce2d7d162c03faeabb89b9c51eac"
 },
 "nbformat": 3,
 "nbformat_minor": 0,
 "worksheets": [
  {
   "cells": [
    {
     "cell_type": "markdown",
     "metadata": {},
     "source": [
      "### Regression Investigation\n",
      "Investigate the method to inject custom loss function in sklearn module."
     ]
    },
    {
     "cell_type": "code",
     "collapsed": false,
     "input": [
      "import pandas as pd\n",
      "import numpy as np\n",
      "\n",
      "import matplotlib as mpt\n",
      "import matplotlib.pyplot as plt\n",
      "import seaborn\n",
      "import vincent\n",
      "\n",
      "import os\n",
      "\n",
      "%matplotlib inline"
     ],
     "language": "python",
     "metadata": {},
     "outputs": [],
     "prompt_number": 46
    },
    {
     "cell_type": "markdown",
     "metadata": {},
     "source": [
      "Load toy datasets"
     ]
    },
    {
     "cell_type": "code",
     "collapsed": false,
     "input": [
      "from sklearn import datasets\n",
      "\n",
      "DATA_PATH = os.getcwd() + '/data/'\n",
      "train_df = pd.read_csv(DATA_PATH + 'training.csv', header=0)\n",
      "new_df = pd.read_csv(DATA_PATH + 'validation.csv', header=0)\n",
      "train_df = train_df.set_index('propertyid')\n",
      "new_df = new_df.set_index('propertyid')\n",
      "\n",
      "## Unpack predictor and response\n",
      "X, y = train_df.drop(['transvalue'], axis=1), train_df['transvalue']"
     ],
     "language": "python",
     "metadata": {},
     "outputs": [
      {
       "html": [
        "<div style=\"max-height:1000px;max-width:1500px;overflow:auto;\">\n",
        "<table border=\"1\" class=\"dataframe\">\n",
        "  <thead>\n",
        "    <tr style=\"text-align: right;\">\n",
        "      <th></th>\n",
        "      <th>transdate</th>\n",
        "      <th>transdate_previous</th>\n",
        "      <th>transvalue_previous</th>\n",
        "      <th>bathroomcnt</th>\n",
        "      <th>bedroomcnt</th>\n",
        "      <th>builtyear</th>\n",
        "      <th>finishedsquarefeet</th>\n",
        "      <th>lotsizesquarefeet</th>\n",
        "      <th>storycnt</th>\n",
        "      <th>latitude</th>\n",
        "      <th>longitude</th>\n",
        "      <th>usecode</th>\n",
        "      <th>censustract</th>\n",
        "      <th>viewtypeid</th>\n",
        "    </tr>\n",
        "    <tr>\n",
        "      <th>propertyid</th>\n",
        "      <th></th>\n",
        "      <th></th>\n",
        "      <th></th>\n",
        "      <th></th>\n",
        "      <th></th>\n",
        "      <th></th>\n",
        "      <th></th>\n",
        "      <th></th>\n",
        "      <th></th>\n",
        "      <th></th>\n",
        "      <th></th>\n",
        "      <th></th>\n",
        "      <th></th>\n",
        "      <th></th>\n",
        "    </tr>\n",
        "  </thead>\n",
        "  <tbody>\n",
        "    <tr>\n",
        "      <th>48650729</th>\n",
        "      <td> 11/16/2005</td>\n",
        "      <td> 12/16/1994</td>\n",
        "      <td> 129500</td>\n",
        "      <td> 2.00</td>\n",
        "      <td> 3</td>\n",
        "      <td> 1964</td>\n",
        "      <td> 2110</td>\n",
        "      <td>  8413</td>\n",
        "      <td> 1</td>\n",
        "      <td> 47469470</td>\n",
        "      <td>-122282926</td>\n",
        "      <td> 9</td>\n",
        "      <td> 28200</td>\n",
        "      <td>NaN</td>\n",
        "    </tr>\n",
        "    <tr>\n",
        "      <th>48650769</th>\n",
        "      <td>  9/23/2005</td>\n",
        "      <td>  11/3/1998</td>\n",
        "      <td> 138000</td>\n",
        "      <td> 0.75</td>\n",
        "      <td> 2</td>\n",
        "      <td> 1942</td>\n",
        "      <td> 1220</td>\n",
        "      <td> 16867</td>\n",
        "      <td> 1</td>\n",
        "      <td> 47468266</td>\n",
        "      <td>-122283976</td>\n",
        "      <td> 9</td>\n",
        "      <td> 28200</td>\n",
        "      <td>NaN</td>\n",
        "    </tr>\n",
        "    <tr>\n",
        "      <th>48650769</th>\n",
        "      <td>  9/23/2005</td>\n",
        "      <td>  7/26/2002</td>\n",
        "      <td> 184000</td>\n",
        "      <td> 0.75</td>\n",
        "      <td> 2</td>\n",
        "      <td> 1942</td>\n",
        "      <td> 1220</td>\n",
        "      <td> 16867</td>\n",
        "      <td> 1</td>\n",
        "      <td> 47468266</td>\n",
        "      <td>-122283976</td>\n",
        "      <td> 9</td>\n",
        "      <td> 28200</td>\n",
        "      <td>NaN</td>\n",
        "    </tr>\n",
        "    <tr>\n",
        "      <th>48650837</th>\n",
        "      <td> 11/29/2005</td>\n",
        "      <td>        NaN</td>\n",
        "      <td>    NaN</td>\n",
        "      <td> 1.00</td>\n",
        "      <td> 3</td>\n",
        "      <td> 1935</td>\n",
        "      <td> 1060</td>\n",
        "      <td> 39060</td>\n",
        "      <td> 1</td>\n",
        "      <td> 47469990</td>\n",
        "      <td>-122275028</td>\n",
        "      <td> 9</td>\n",
        "      <td> 28200</td>\n",
        "      <td>NaN</td>\n",
        "    </tr>\n",
        "    <tr>\n",
        "      <th>48651057</th>\n",
        "      <td> 11/16/2005</td>\n",
        "      <td>  5/30/1995</td>\n",
        "      <td> 552000</td>\n",
        "      <td> 2.25</td>\n",
        "      <td> 4</td>\n",
        "      <td> 1991</td>\n",
        "      <td> 5410</td>\n",
        "      <td> 15002</td>\n",
        "      <td> 1</td>\n",
        "      <td> 47332382</td>\n",
        "      <td>-122355990</td>\n",
        "      <td> 9</td>\n",
        "      <td> 30100</td>\n",
        "      <td>  3</td>\n",
        "    </tr>\n",
        "  </tbody>\n",
        "</table>\n",
        "</div>"
       ],
       "metadata": {},
       "output_type": "pyout",
       "prompt_number": 52,
       "text": [
        "             transdate transdate_previous  transvalue_previous  bathroomcnt  \\\n",
        "propertyid                                                                    \n",
        "48650729    11/16/2005         12/16/1994               129500         2.00   \n",
        "48650769     9/23/2005          11/3/1998               138000         0.75   \n",
        "48650769     9/23/2005          7/26/2002               184000         0.75   \n",
        "48650837    11/29/2005                NaN                  NaN         1.00   \n",
        "48651057    11/16/2005          5/30/1995               552000         2.25   \n",
        "\n",
        "            bedroomcnt  builtyear  finishedsquarefeet  lotsizesquarefeet  \\\n",
        "propertyid                                                                 \n",
        "48650729             3       1964                2110               8413   \n",
        "48650769             2       1942                1220              16867   \n",
        "48650769             2       1942                1220              16867   \n",
        "48650837             3       1935                1060              39060   \n",
        "48651057             4       1991                5410              15002   \n",
        "\n",
        "            storycnt  latitude  longitude  usecode  censustract  viewtypeid  \n",
        "propertyid                                                                   \n",
        "48650729           1  47469470 -122282926        9        28200         NaN  \n",
        "48650769           1  47468266 -122283976        9        28200         NaN  \n",
        "48650769           1  47468266 -122283976        9        28200         NaN  \n",
        "48650837           1  47469990 -122275028        9        28200         NaN  \n",
        "48651057           1  47332382 -122355990        9        30100           3  "
       ]
      }
     ],
     "prompt_number": 52
    },
    {
     "cell_type": "markdown",
     "metadata": {},
     "source": [
      "### 1. Data Prepration: Missing Data Handling, Categorical Variable Recoding"
     ]
    },
    {
     "cell_type": "code",
     "collapsed": false,
     "input": [
      "def basic_prep(data, col):\n",
      "    \"\"\"\n",
      "    Data Preparation\n",
      "    Todos:\n",
      "       1. Make a copy of the original dataset but with categorical variables (development purpose only)\n",
      "       2. \n",
      "       \n",
      "    Parameters\n",
      "    ----------\n",
      "    \n",
      "    Returns\n",
      "    -------\n",
      "    \n",
      "    \"\"\"\n",
      "    pass\n",
      "\n",
      "\n",
      "def yTranformer(y, rev=False):\n",
      "    \"\"\"\n",
      "    Transform repsonse variable, np.log10()\n",
      "    \n",
      "    Parameters\n",
      "    ----------\n",
      "    y: array/vector-like, \n",
      "    \n",
      "    Returns\n",
      "    -------\n",
      "    res: logorithm of y at base 10\n",
      "    \"\"\"\n",
      "    log10_y = np.log10(y)\n",
      "    return log10_y"
     ],
     "language": "python",
     "metadata": {},
     "outputs": [],
     "prompt_number": 53
    },
    {
     "cell_type": "markdown",
     "metadata": {},
     "source": [
      "### Split Train Data into 2 subsets for Training and Testing\n",
      "Training set and testing set are splitted from data carrying known response value ('/data/training.csv'). \n",
      "* The testing set are utilized only for model assessment in order to estimate the generalization error of the selected model. \n",
      "* On other hand, training data will be used for model selection within either k-fold cross-validation or boostraping cross-validation."
     ]
    },
    {
     "cell_type": "code",
     "collapsed": false,
     "input": [
      "from sklearn.cross_validation import train_test_split\n",
      "X_train, X_test, y_train, y_test = train_test_split(X, y, test_size=0.1, random_state=42)\n",
      "## Restrucutre data\n",
      "X_train = pd.DataFrame(X_train)\n",
      "y_train = pd.Series(y_train)\n",
      "X_test = pd.DataFrame(X_test)\n",
      "y_test = pd.Series(y_test)\n",
      "print \"-----------------------------\"\n",
      "print \"#obs for train (for train + validation): {0}\".format(X_train.shape[0])\n",
      "print \"#obs for test (for generalization error estimation): {0}\".format(X_test.shape[0])\n",
      "## Histogram to examine the goodness of reandom sampling:\n",
      "data1 = y_train.apply(lambda x: yTranformer(x))\n",
      "data2 = y_test.apply(lambda x: yTranformer(x))\n",
      "max_data = np.r_[data1, data2].max()\n",
      "plt.hist(), bins=15, normed=True, color=\"#6495ED\", alpha=.5)\n",
      "plt.hist(, bins=15, normed=True, color=\"#F08080\", alpha=.5)"
     ],
     "language": "python",
     "metadata": {},
     "outputs": [
      {
       "output_type": "stream",
       "stream": "stdout",
       "text": [
        "-----------------------------\n",
        "#obs for train (for train + validation): 2297\n",
        "#obs for test (for generalization error estimation): 256\n"
       ]
      },
      {
       "metadata": {},
       "output_type": "pyout",
       "prompt_number": 65,
       "text": [
        "(array([ 0.02020045,  0.        ,  0.02020045,  0.        ,  0.08080182,\n",
        "         1.49483366,  2.14124822,  1.0302232 ,  0.24240546,  0.08080182,\n",
        "         0.        ,  0.02020045,  0.        ,  0.02020045,  0.02020045]),\n",
        " array([ 4.34242268,  4.53579704,  4.7291714 ,  4.92254575,  5.11592011,\n",
        "         5.30929447,  5.50266883,  5.69604319,  5.88941754,  6.0827919 ,\n",
        "         6.27616626,  6.46954062,  6.66291498,  6.85628933,  7.04966369,\n",
        "         7.24303805]),\n",
        " <a list of 15 Patch objects>)"
       ]
      },
      {
       "metadata": {},
       "output_type": "display_data",
       "png": "[encoded data removed]",
       "text": [
        "<matplotlib.figure.Figure at 0x10e245510>"
       ]
      }
     ],
     "prompt_number": 65
    },
    {
     "cell_type": "markdown",
     "metadata": {},
     "source": [
      "The above histogram display the distributions of log(transvalue) in train (in blue) and test (in red). In train data set, the samples are more concentrated on the mid-range of price. And, the deviation from the  underestimate the generalization error. "
     ]
    },
    {
     "cell_type": "code",
     "collapsed": false,
     "input": [
      "pd.Series(y_test).apply(lambda x: yTranformer(x))\n"
     ],
     "language": "python",
     "metadata": {},
     "outputs": [
      {
       "metadata": {},
       "output_type": "pyout",
       "prompt_number": 60,
       "text": [
        "0     5.478566\n",
        "1     5.477121\n",
        "2     5.876016\n",
        "3     5.638489\n",
        "4     5.585461\n",
        "5     5.479935\n",
        "6     5.267172\n",
        "7     5.919078\n",
        "8     5.649530\n",
        "9     5.468273\n",
        "10    5.447158\n",
        "11    5.594393\n",
        "12    5.454845\n",
        "13    5.860338\n",
        "14    5.799341\n",
        "...\n",
        "241    5.618048\n",
        "242    5.734800\n",
        "243    5.230449\n",
        "244    5.579784\n",
        "245    6.173186\n",
        "246    5.579784\n",
        "247    5.638489\n",
        "248    5.673021\n",
        "249    5.667453\n",
        "250    5.720159\n",
        "251    5.469822\n",
        "252    5.860338\n",
        "253    5.612731\n",
        "254    5.648360\n",
        "255    5.414973\n",
        "Length: 256, dtype: float64"
       ]
      }
     ],
     "prompt_number": 60
    },
    {
     "cell_type": "markdown",
     "metadata": {},
     "source": [
      "### 2. Ordinal Linear Regression\n",
      "#### 2-1. Fitting Linear Regression with training data, validation data, testing data"
     ]
    },
    {
     "cell_type": "code",
     "collapsed": false,
     "input": [
      "from sklearn import linear_model\n",
      "#from sklearn.datasets.samples_geneartor import make_regression"
     ],
     "language": "python",
     "metadata": {},
     "outputs": [],
     "prompt_number": 11
    },
    {
     "cell_type": "code",
     "collapsed": false,
     "input": [
      "# Create linear Regressor\n",
      "regr = linear_model.LinearRegression(normalize=True)\n",
      "regr.fit(X, y)"
     ],
     "language": "python",
     "metadata": {},
     "outputs": [
      {
       "metadata": {},
       "output_type": "pyout",
       "prompt_number": 16,
       "text": [
        "LinearRegression(copy_X=True, fit_intercept=True, normalize=True)"
       ]
      }
     ],
     "prompt_number": 16
    },
    {
     "cell_type": "code",
     "collapsed": false,
     "input": [
      "regr.coef_"
     ],
     "language": "python",
     "metadata": {},
     "outputs": [
      {
       "metadata": {},
       "output_type": "pyout",
       "prompt_number": 25,
       "text": [
        "array([ -1.07170557e-01,   4.63952195e-02,   2.08602395e-02,\n",
        "         2.68856140e+00,  -1.77957587e+01,   3.80475246e+00,\n",
        "         7.51061703e-04,  -1.47575880e+00,   3.05655038e-01,\n",
        "        -1.23293463e-02,  -9.53463555e-01,   9.39251272e-03,\n",
        "        -5.25466633e-01])"
       ]
      }
     ],
     "prompt_number": 25
    },
    {
     "cell_type": "code",
     "collapsed": false,
     "input": [],
     "language": "python",
     "metadata": {},
     "outputs": []
    }
   ],
   "metadata": {}
  }
 ]
}