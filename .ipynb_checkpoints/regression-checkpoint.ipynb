{
 "metadata": {
  "name": "",
  "signature": "sha256:e32effa00a43ee6b549e8bb0ee2b64071f2e8fa6cda242d103b852ba2b479b48"
 },
 "nbformat": 3,
 "nbformat_minor": 0,
 "worksheets": [
  {
   "cells": [
    {
     "cell_type": "markdown",
     "metadata": {},
     "source": [
      "### Regression Investigation\n",
      "Investigate the method to inject custom loss function in sklearn module."
     ]
    },
    {
     "cell_type": "code",
     "collapsed": false,
     "input": [
      "import pandas as pd\n",
      "import numpy as np\n",
      "\n",
      "import matplotlib as mpt\n",
      "import matplotlib.pyplot as plt\n",
      "import seaborn\n",
      "import vincent\n",
      "\n",
      "import os\n",
      "\n",
      "%matplotlib inline"
     ],
     "language": "python",
     "metadata": {},
     "outputs": [],
     "prompt_number": 46
    },
    {
     "cell_type": "markdown",
     "metadata": {},
     "source": [
      "Load toy datasets"
     ]
    },
    {
     "cell_type": "code",
     "collapsed": false,
     "input": [
      "from sklearn import datasets\n",
      "\n",
      "DATA_PATH = os.getcwd() + '/data/'\n",
      "train_df = pd.read_csv(DATA_PATH + 'training.csv', header=0)\n",
      "new_df = pd.read_csv(DATA_PATH + 'validation.csv', header=0)\n",
      "train_df = train_df.set_index('propertyid')\n",
      "new_df = new_df.set_index('propertyid')\n",
      "\n",
      "## Unpack predictor and response\n",
      "X, y = train_df.drop(['transvalue'], axis=1), train_df['transvalue']"
     ],
     "language": "python",
     "metadata": {},
     "outputs": [
      {
       "html": [
        "<div style=\"max-height:1000px;max-width:1500px;overflow:auto;\">\n",
        "<table border=\"1\" class=\"dataframe\">\n",
        "  <thead>\n",
        "    <tr style=\"text-align: right;\">\n",
        "      <th></th>\n",
        "      <th>transdate</th>\n",
        "      <th>transdate_previous</th>\n",
        "      <th>transvalue_previous</th>\n",
        "      <th>bathroomcnt</th>\n",
        "      <th>bedroomcnt</th>\n",
        "      <th>builtyear</th>\n",
        "      <th>finishedsquarefeet</th>\n",
        "      <th>lotsizesquarefeet</th>\n",
        "      <th>storycnt</th>\n",
        "      <th>latitude</th>\n",
        "      <th>longitude</th>\n",
        "      <th>usecode</th>\n",
        "      <th>censustract</th>\n",
        "      <th>viewtypeid</th>\n",
        "    </tr>\n",
        "    <tr>\n",
        "      <th>propertyid</th>\n",
        "      <th></th>\n",
        "      <th></th>\n",
        "      <th></th>\n",
        "      <th></th>\n",
        "      <th></th>\n",
        "      <th></th>\n",
        "      <th></th>\n",
        "      <th></th>\n",
        "      <th></th>\n",
        "      <th></th>\n",
        "      <th></th>\n",
        "      <th></th>\n",
        "      <th></th>\n",
        "      <th></th>\n",
        "    </tr>\n",
        "  </thead>\n",
        "  <tbody>\n",
        "    <tr>\n",
        "      <th>48650729</th>\n",
        "      <td> 11/16/2005</td>\n",
        "      <td> 12/16/1994</td>\n",
        "      <td> 129500</td>\n",
        "      <td> 2.00</td>\n",
        "      <td> 3</td>\n",
        "      <td> 1964</td>\n",
        "      <td> 2110</td>\n",
        "      <td>  8413</td>\n",
        "      <td> 1</td>\n",
        "      <td> 47469470</td>\n",
        "      <td>-122282926</td>\n",
        "      <td> 9</td>\n",
        "      <td> 28200</td>\n",
        "      <td>NaN</td>\n",
        "    </tr>\n",
        "    <tr>\n",
        "      <th>48650769</th>\n",
        "      <td>  9/23/2005</td>\n",
        "      <td>  11/3/1998</td>\n",
        "      <td> 138000</td>\n",
        "      <td> 0.75</td>\n",
        "      <td> 2</td>\n",
        "      <td> 1942</td>\n",
        "      <td> 1220</td>\n",
        "      <td> 16867</td>\n",
        "      <td> 1</td>\n",
        "      <td> 47468266</td>\n",
        "      <td>-122283976</td>\n",
        "      <td> 9</td>\n",
        "      <td> 28200</td>\n",
        "      <td>NaN</td>\n",
        "    </tr>\n",
        "    <tr>\n",
        "      <th>48650769</th>\n",
        "      <td>  9/23/2005</td>\n",
        "      <td>  7/26/2002</td>\n",
        "      <td> 184000</td>\n",
        "      <td> 0.75</td>\n",
        "      <td> 2</td>\n",
        "      <td> 1942</td>\n",
        "      <td> 1220</td>\n",
        "      <td> 16867</td>\n",
        "      <td> 1</td>\n",
        "      <td> 47468266</td>\n",
        "      <td>-122283976</td>\n",
        "      <td> 9</td>\n",
        "      <td> 28200</td>\n",
        "      <td>NaN</td>\n",
        "    </tr>\n",
        "    <tr>\n",
        "      <th>48650837</th>\n",
        "      <td> 11/29/2005</td>\n",
        "      <td>        NaN</td>\n",
        "      <td>    NaN</td>\n",
        "      <td> 1.00</td>\n",
        "      <td> 3</td>\n",
        "      <td> 1935</td>\n",
        "      <td> 1060</td>\n",
        "      <td> 39060</td>\n",
        "      <td> 1</td>\n",
        "      <td> 47469990</td>\n",
        "      <td>-122275028</td>\n",
        "      <td> 9</td>\n",
        "      <td> 28200</td>\n",
        "      <td>NaN</td>\n",
        "    </tr>\n",
        "    <tr>\n",
        "      <th>48651057</th>\n",
        "      <td> 11/16/2005</td>\n",
        "      <td>  5/30/1995</td>\n",
        "      <td> 552000</td>\n",
        "      <td> 2.25</td>\n",
        "      <td> 4</td>\n",
        "      <td> 1991</td>\n",
        "      <td> 5410</td>\n",
        "      <td> 15002</td>\n",
        "      <td> 1</td>\n",
        "      <td> 47332382</td>\n",
        "      <td>-122355990</td>\n",
        "      <td> 9</td>\n",
        "      <td> 30100</td>\n",
        "      <td>  3</td>\n",
        "    </tr>\n",
        "  </tbody>\n",
        "</table>\n",
        "</div>"
       ],
       "metadata": {},
       "output_type": "pyout",
       "prompt_number": 52,
       "text": [
        "             transdate transdate_previous  transvalue_previous  bathroomcnt  \\\n",
        "propertyid                                                                    \n",
        "48650729    11/16/2005         12/16/1994               129500         2.00   \n",
        "48650769     9/23/2005          11/3/1998               138000         0.75   \n",
        "48650769     9/23/2005          7/26/2002               184000         0.75   \n",
        "48650837    11/29/2005                NaN                  NaN         1.00   \n",
        "48651057    11/16/2005          5/30/1995               552000         2.25   \n",
        "\n",
        "            bedroomcnt  builtyear  finishedsquarefeet  lotsizesquarefeet  \\\n",
        "propertyid                                                                 \n",
        "48650729             3       1964                2110               8413   \n",
        "48650769             2       1942                1220              16867   \n",
        "48650769             2       1942                1220              16867   \n",
        "48650837             3       1935                1060              39060   \n",
        "48651057             4       1991                5410              15002   \n",
        "\n",
        "            storycnt  latitude  longitude  usecode  censustract  viewtypeid  \n",
        "propertyid                                                                   \n",
        "48650729           1  47469470 -122282926        9        28200         NaN  \n",
        "48650769           1  47468266 -122283976        9        28200         NaN  \n",
        "48650769           1  47468266 -122283976        9        28200         NaN  \n",
        "48650837           1  47469990 -122275028        9        28200         NaN  \n",
        "48651057           1  47332382 -122355990        9        30100           3  "
       ]
      }
     ],
     "prompt_number": 52
    },
    {
     "cell_type": "markdown",
     "metadata": {},
     "source": [
      "### 1. Data Prepration: Missing Data Handling, Categorical Variable Recoding"
     ]
    },
    {
     "cell_type": "code",
     "collapsed": false,
     "input": [
      "def basic_prep(data, col):\n",
      "    \"\"\"\n",
      "    Data Preparation\n",
      "    Todos:\n",
      "       1. Make a copy of the original dataset but with categorical variables (development purpose only)\n",
      "       2. \n",
      "       \n",
      "    Parameters\n",
      "    ----------\n",
      "    \n",
      "    Returns\n",
      "    -------\n",
      "    \n",
      "    \"\"\"\n",
      "    pass\n",
      "\n",
      "\n",
      "def yTranformer(y, rev=False):\n",
      "    \"\"\"\n",
      "    Transform repsonse variable, np.log10()\n",
      "    * choose base=10 for its ease of interpration\n",
      "    * through, base=e could be faster\n",
      "    \n",
      "    Parameters\n",
      "    ----------\n",
      "    y: vector-like, \n",
      "    rev: boolean,\n",
      "    Returns\n",
      "    -------\n",
      "    res: logorithm of y at base 10\n",
      "    \"\"\"\n",
      "    if not rev:\n",
      "        res = np.log10(y)\n",
      "    else:\n",
      "        res = 10 ** y\n",
      "    return res"
     ],
     "language": "python",
     "metadata": {},
     "outputs": [],
     "prompt_number": 108
    },
    {
     "cell_type": "markdown",
     "metadata": {},
     "source": [
      "### Split train data into 2 subsets for training and testing\n",
      "Training set and testing set are splitted from data carrying known response value ('/data/training.csv'). \n",
      "* The testing set are utilized only for model assessment in order to estimate the generalization error of the selected model. \n",
      "* On other hand, training data will be used for model selection within either k-fold cross-validation or boostraping cross-validation."
     ]
    },
    {
     "cell_type": "code",
     "collapsed": false,
     "input": [
      "from sklearn.cross_validation import train_test_split\n",
      "X_train, X_test, y_train, y_test = train_test_split(X, y, test_size=0.1, random_state=42)\n",
      "## Restrucutre data\n",
      "X_train = pd.DataFrame(X_train, columns = X.columns)\n",
      "y_train = pd.Series(y_train)\n",
      "X_test = pd.DataFrame(X_test, columns = X.columns)\n",
      "y_test = pd.Series(y_test)\n",
      "print \"-------------------------------------------------------------------------------\"\n",
      "print \"#obs for train (for train + validation): {0}\".format(X_train.shape[0])\n",
      "print \"#obs for test (for generalization error estimation): {0}\".format(X_test.shape[0])\n",
      "print \"-------------------------------------------------------------------------------\"\n",
      "\n",
      "## Histogram to examine the goodness of reandom sampling:\n",
      "fig, axes = plt.subplots(figsize=(12,5))\n",
      "\n",
      "data1 = y_train.apply(lambda x: yTranformer(x))\n",
      "data2 = y_test.apply(lambda x: yTranformer(x))\n",
      "axes.hist(data1, bins=15, normed=True, color=\"#6495ED\", alpha=.5)\n",
      "axes.hist(data2, bins=15, normed=True, color=\"#F08080\", alpha=.5)"
     ],
     "language": "python",
     "metadata": {},
     "outputs": [
      {
       "output_type": "stream",
       "stream": "stdout",
       "text": [
        "-------------------------------------------------------------------------------\n",
        "#obs for train (for train + validation): 2297\n",
        "#obs for test (for generalization error estimation): 256\n",
        "-------------------------------------------------------------------------------\n"
       ]
      },
      {
       "metadata": {},
       "output_type": "pyout",
       "prompt_number": 85,
       "text": [
        "(array([ 0.02020045,  0.        ,  0.02020045,  0.        ,  0.08080182,\n",
        "         1.49483366,  2.14124822,  1.0302232 ,  0.24240546,  0.08080182,\n",
        "         0.        ,  0.02020045,  0.        ,  0.02020045,  0.02020045]),\n",
        " array([ 4.34242268,  4.53579704,  4.7291714 ,  4.92254575,  5.11592011,\n",
        "         5.30929447,  5.50266883,  5.69604319,  5.88941754,  6.0827919 ,\n",
        "         6.27616626,  6.46954062,  6.66291498,  6.85628933,  7.04966369,\n",
        "         7.24303805]),\n",
        " <a list of 15 Patch objects>)"
       ]
      },
      {
       "metadata": {},
       "output_type": "display_data",
       "png": "[encoded data removed]",
       "text": [
        "<matplotlib.figure.Figure at 0x10f3458d0>"
       ]
      }
     ],
     "prompt_number": 85
    },
    {
     "cell_type": "markdown",
     "metadata": {},
     "source": [
      "The above histogram displays the distributions of log(transvalue) in train (in blue) and test (in red). In train data set, the samples seem to be more concentrated and covering a wider range in prices. \n",
      " * Concentration on mid-range could understimate generalization error, given a good learner;\n",
      " * Inclusion of units whose prices are beyond the coverage of trianing sample could provide fair view on the generalization of a model."
     ]
    },
    {
     "cell_type": "code",
     "collapsed": false,
     "input": [
      "X_train.columns"
     ],
     "language": "python",
     "metadata": {},
     "outputs": [
      {
       "metadata": {},
       "output_type": "pyout",
       "prompt_number": 82,
       "text": [
        "Index([u'transdate', u'transdate_previous', u'transvalue_previous', u'bathroomcnt', u'bedroomcnt', u'builtyear', u'finishedsquarefeet', u'lotsizesquarefeet', u'storycnt', u'latitude', u'longitude', u'usecode', u'censustract', u'viewtypeid'], dtype='object')"
       ]
      }
     ],
     "prompt_number": 82
    },
    {
     "cell_type": "code",
     "collapsed": false,
     "input": [
      "from sklearn.preprocessing import Imputer\n",
      "\n",
      "## Feature selection (manuallly for development purpose only) --------------\n",
      "predictor = ['bathroomcnt', 'bedroomcnt', 'finishedsquarefeet', 'lotsizesquarefeet', 'storycnt']\n",
      "## Missing Value Imputation ------------------------------------------------\n",
      "missing_handler = Imputer(strategy=\"mean\")\n",
      "missing_handler.fit(X_train[predictor])\n",
      "X_train[predictor] = missing_handler.transform(X_train[predictor])\n",
      "X_test[predictor] = missing_handler.transform(X_test[predictor])\n",
      "## Respoonse variable transformation ---------------------------------------\n",
      "y_train = y_train.apply(lambda x: yTranformer(x))\n",
      "y_test = y_test.apply(lambda x: yTranformer(x))"
     ],
     "language": "python",
     "metadata": {},
     "outputs": [],
     "prompt_number": 112
    },
    {
     "cell_type": "markdown",
     "metadata": {},
     "source": [
      "### 2. Ordinal Linear Regression\n",
      "#### 2-1. Fitting Linear Regression with training data, validation data, testing data"
     ]
    },
    {
     "cell_type": "code",
     "collapsed": false,
     "input": [
      "from sklearn import linear_model"
     ],
     "language": "python",
     "metadata": {},
     "outputs": [],
     "prompt_number": 113
    },
    {
     "cell_type": "code",
     "collapsed": false,
     "input": [
      "# Create linear Regressor\n",
      "regr = linear_model.LinearRegression(normalize=True)\n",
      "regr.fit(X_train[predictor], y_train)"
     ],
     "language": "python",
     "metadata": {},
     "outputs": [
      {
       "metadata": {},
       "output_type": "pyout",
       "prompt_number": 114,
       "text": [
        "LinearRegression(copy_X=True, fit_intercept=True, normalize=True)"
       ]
      }
     ],
     "prompt_number": 114
    },
    {
     "cell_type": "code",
     "collapsed": false,
     "input": [
      "regr.intercept_, regr.coef_"
     ],
     "language": "python",
     "metadata": {},
     "outputs": [
      {
       "metadata": {},
       "output_type": "pyout",
       "prompt_number": 115,
       "text": [
        "(0.72601480473623348,\n",
        " array([ -1.04316023e-03,  -1.93592927e-03,   1.37287159e-05,\n",
        "         -8.08524118e-09,   2.90416348e-03]))"
       ]
      }
     ],
     "prompt_number": 115
    },
    {
     "cell_type": "code",
     "collapsed": false,
     "input": [
      "regr.score(X_train[predictor], y_train), regr.score(X_test[predictor], y_test)"
     ],
     "language": "python",
     "metadata": {},
     "outputs": [
      {
       "metadata": {},
       "output_type": "pyout",
       "prompt_number": 111,
       "text": [
        "(0.50744437263878561, 0.50165591634408613)"
       ]
      }
     ],
     "prompt_number": 111
    },
    {
     "cell_type": "code",
     "collapsed": false,
     "input": [
      "y_train_hat = regr.predict(X_train[predictor])\n",
      "y_test_hat = regr.predict(X_test[predictor])\n",
      "train_residuals = y_train_hat - y_train\n",
      "test_residuals = y_test_hat - y_test\n",
      "## Plot residuals vs. log(y)\n",
      "fig, axes = plt.subplots(figsize=(12, 12))\n",
      "\n",
      "axes.scatter(y_train, train_residuals, 'r')\n",
      "axes.scatter(y_test, test_residuals, 'b')\n",
      "axes.set_xlabel('y_hat(log)')\n",
      "axes.set_ylabel('log(y)')\n",
      "axes.set_title('Residuals(log) vs. Log(Transvalue)');"
     ],
     "language": "python",
     "metadata": {},
     "outputs": [
      {
       "metadata": {},
       "output_type": "display_data",
       "text": [
        "<matplotlib.figure.Figure at 0x1105866d0>"
       ]
      }
     ],
     "prompt_number": 128
    },
    {
     "cell_type": "code",
     "collapsed": false,
     "input": [
      "## Decision-Tree-based Feature Selection "
     ],
     "language": "python",
     "metadata": {},
     "outputs": [],
     "prompt_number": 129
    },
    {
     "cell_type": "code",
     "collapsed": false,
     "input": [
      "from sklearn.ensemble import ExtraTreesClassifier\n",
      "tree_clf = ExtraTreesClassifier()\n",
      "X_new = tree_clf.fit(X_train[predictor], y_train).transform(X_train[predictor])"
     ],
     "language": "python",
     "metadata": {},
     "outputs": [],
     "prompt_number": 135
    },
    {
     "cell_type": "code",
     "collapsed": false,
     "input": [
      "feature_importance = pd.DataFrame(zip(predictor, tree_clf.feature_importances_), \n",
      "                                  columns = ['feature', 'tree_based_feature_importance'])\n",
      "feature_importance.sort(['tree_based_feature_importance'], ascending = False, inplace=True)\n",
      "print \"********* Feautre Importance (tree-based selection) **************\"\n",
      "print feature_importance\n",
      "print \"******************************************************************\""
     ],
     "language": "python",
     "metadata": {},
     "outputs": [
      {
       "output_type": "stream",
       "stream": "stdout",
       "text": [
        "********* Feautre Importance (tree-based selection) **************\n",
        "              feature  tree_based_feature_importance\n",
        "3   lotsizesquarefeet                       0.466080\n",
        "2  finishedsquarefeet                       0.405319\n",
        "0         bathroomcnt                       0.073780\n",
        "1          bedroomcnt                       0.046413\n",
        "4            storycnt                       0.008408\n",
        "******************************************************************\n"
       ]
      }
     ],
     "prompt_number": 147
    },
    {
     "cell_type": "markdown",
     "metadata": {},
     "source": [
      "### Cross-validation"
     ]
    },
    {
     "cell_type": "code",
     "collapsed": false,
     "input": [
      "from sklearn import cross_validation\n",
      "from sklearn.linear_model import Ridge\n",
      "from sklearn.linear_model import LinearRegression"
     ],
     "language": "python",
     "metadata": {},
     "outputs": [],
     "prompt_number": 168
    },
    {
     "cell_type": "code",
     "collapsed": false,
     "input": [
      "lr = LinearRegression(fit_intercept=True, normalize=True)\n",
      "ridge = Ridge(alpha=88.862381627434075)"
     ],
     "language": "python",
     "metadata": {},
     "outputs": [],
     "prompt_number": 189
    },
    {
     "cell_type": "code",
     "collapsed": false,
     "input": [
      "scores_lr = cross_validation.cross_val_score(lr, X_train[predictor], y_train, cv=100)\n",
      "scores_ridge = cross_validation.cross_val_score(ridge, X_train[predictor], y_train, cv=100)\n",
      "scores = pd.DataFrame(zip(scores_lr, scores_ridge), columns=['LinearRegression', 'Ridge'])"
     ],
     "language": "python",
     "metadata": {},
     "outputs": [],
     "prompt_number": 190
    },
    {
     "cell_type": "code",
     "collapsed": false,
     "input": [
      "seaborn.boxplot(scores)"
     ],
     "language": "python",
     "metadata": {},
     "outputs": [
      {
       "metadata": {},
       "output_type": "pyout",
       "prompt_number": 191,
       "text": [
        "<matplotlib.axes.AxesSubplot at 0x110569710>"
       ]
      },
      {
       "metadata": {},
       "output_type": "display_data",
       "png": "[encoded data removed]",
       "text": [
        "<matplotlib.figure.Figure at 0x1102b93d0>"
       ]
      }
     ],
     "prompt_number": 191
    },
    {
     "cell_type": "markdown",
     "metadata": {},
     "source": [
      "### GridSaerch for HyperParameter Tuning"
     ]
    },
    {
     "cell_type": "code",
     "collapsed": false,
     "input": [
      "from sklearn.grid_search import GridSearchCV\n",
      "alphas = np.logspace(-4, 4, 40)\n",
      "ridge = Ridge()\n",
      "parameters = {\"alpha\":alphas}\n",
      "estimator = GridSearchCV(ridge, parameters)\n",
      "estimator.fit(X_train[predictor], y_train)"
     ],
     "language": "python",
     "metadata": {},
     "outputs": [
      {
       "metadata": {},
       "output_type": "pyout",
       "prompt_number": 186,
       "text": [
        "GridSearchCV(cv=None,\n",
        "       estimator=Ridge(alpha=1.0, copy_X=True, fit_intercept=True, max_iter=None,\n",
        "   normalize=False, solver='auto', tol=0.001),\n",
        "       fit_params={}, iid=True, loss_func=None, n_jobs=1,\n",
        "       param_grid={'alpha': array([  1.00000e-04,   1.60372e-04,   2.57191e-04,   4.12463e-04,\n",
        "         6.61474e-04,   1.06082e-03,   1.70125e-03,   2.72833e-03,\n",
        "         4.37548e-03,   7.01704e-03,   1.12534e-02,   1.80472e-02,\n",
        "         2.89427e-02,   4.64159e-02,   7.44380e-02,   1.19378e-01,\n",
        "         1....,   9.42668e+02,   1.51178e+03,\n",
        "         2.42446e+03,   3.88816e+03,   6.23551e+03,   1.00000e+04])},\n",
        "       pre_dispatch='2*n_jobs', refit=True, score_func=None, scoring=None,\n",
        "       verbose=0)"
       ]
      }
     ],
     "prompt_number": 186
    },
    {
     "cell_type": "code",
     "collapsed": false,
     "input": [
      "estimator.best_estimator_"
     ],
     "language": "python",
     "metadata": {},
     "outputs": [
      {
       "metadata": {},
       "output_type": "pyout",
       "prompt_number": 188,
       "text": [
        "Ridge(alpha=88.862381627434075, copy_X=True, fit_intercept=True,\n",
        "   max_iter=None, normalize=False, solver='auto', tol=0.001)"
       ]
      }
     ],
     "prompt_number": 188
    },
    {
     "cell_type": "markdown",
     "metadata": {},
     "source": [
      "### Pipeline\n",
      "Cacasding the opeartions:\n",
      "  a. feature selection\n",
      "  b. feature transformation\n",
      "  c. feature"
     ]
    },
    {
     "cell_type": "code",
     "collapsed": false,
     "input": [
      "from sklearn import svm\n",
      "from sklearn.datasets import samples_generator\n",
      "from sklearn.feature_selection import SelectKBest\n",
      "from sklearn.feature_selection import f_regression\n",
      "from sklearn.pipeline import Pipeline\n",
      "X, y = samples_generator.make_classification(n_informative=5, n_redundant=0, random_state=42)\n",
      "\n",
      "def featureFilter(data, set_idx = 1):\n",
      "    \"\"\"\n",
      "    Subset data by keeping a collection of features\n",
      "    \n",
      "    Parameters:\n",
      "    -----------\n",
      "    data: array-like, (n_samples, m_features)\n",
      "    features: array-like, (k_feautres, )\n",
      "    \n",
      "    Returns:\n",
      "    --------\n",
      "    res: array-like\n",
      "    \"\"\"\n",
      "    features = ['bathroomcnt', 'bedroomcnt', 'finishedsquarefeet', 'lotsizesquarefeet', 'storycnt']\n",
      "    if set_idx == 1:\n",
      "        cols = [i for i in data.columns if i in features]\n",
      "    res = data[cols]\n",
      "    return res\n",
      "\n",
      "          \n",
      "pipline = Pipeline([('feature_filter', Imputer(missing_values='NaN', strategy='mean', axis=1)),\n",
      "                    ('ridge_regression', Ridge())])\n",
      "\n",
      "params = dict(feature_filter__set_idx = [1],\n",
      "              ridge_regression__alpha = np.logspace(-10, 10, 51))\n",
      "\n",
      "grid_search = GridSearchCV(pipeline, params, n_jobs=-1, verbose=1)\n",
      "#grid_search.fit(X_train, y)"
     ],
     "language": "python",
     "metadata": {},
     "outputs": [
      {
       "ename": "TypeError",
       "evalue": "featureFilter() takes at least 1 argument (0 given)",
       "output_type": "pyerr",
       "traceback": [
        "\u001b[0;31m---------------------------------------------------------------------------\u001b[0m\n\u001b[0;31mTypeError\u001b[0m                                 Traceback (most recent call last)",
        "\u001b[0;32m<ipython-input-199-0c4870c0fd95>\u001b[0m in \u001b[0;36m<module>\u001b[0;34m()\u001b[0m\n\u001b[1;32m     25\u001b[0m     \u001b[0;32mreturn\u001b[0m \u001b[0mres\u001b[0m\u001b[0;34m\u001b[0m\u001b[0m\n\u001b[1;32m     26\u001b[0m \u001b[0;34m\u001b[0m\u001b[0m\n\u001b[0;32m---> 27\u001b[0;31m pipline = Pipeline([('feature_filter', featureFilter()),\n\u001b[0m\u001b[1;32m     28\u001b[0m                     ('ridge_regression', Ridge())])\n\u001b[1;32m     29\u001b[0m \u001b[0;34m\u001b[0m\u001b[0m\n",
        "\u001b[0;31mTypeError\u001b[0m: featureFilter() takes at least 1 argument (0 given)"
       ]
      }
     ],
     "prompt_number": 199
    },
    {
     "cell_type": "code",
     "collapsed": false,
     "input": [
      "X_train_subset = featureFilter(X_train, predictor)"
     ],
     "language": "python",
     "metadata": {},
     "outputs": [],
     "prompt_number": 194
    },
    {
     "cell_type": "code",
     "collapsed": false,
     "input": [],
     "language": "python",
     "metadata": {},
     "outputs": [
      {
       "metadata": {},
       "output_type": "pyout",
       "prompt_number": 195,
       "text": [
        "((2297, 5), (2297, 14))"
       ]
      }
     ],
     "prompt_number": 195
    },
    {
     "cell_type": "code",
     "collapsed": false,
     "input": [],
     "language": "python",
     "metadata": {},
     "outputs": []
    }
   ],
   "metadata": {}
  }
 ]
}