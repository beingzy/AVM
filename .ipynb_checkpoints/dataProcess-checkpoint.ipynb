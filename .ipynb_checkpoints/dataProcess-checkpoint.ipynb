{
 "metadata": {
  "name": "",
  "signature": "sha256:94777f8fdef032b07c5b988b0d4cc22d2449201534783aa2630b63af0c48f2b6"
 },
 "nbformat": 3,
 "nbformat_minor": 0,
 "worksheets": [
  {
   "cells": [
    {
     "cell_type": "code",
     "collapsed": false,
     "input": [
      "import pandas as pd\n",
      "import numpy as np\n",
      "\n",
      "import matplotlib as mpt\n",
      "import matplotlib.pyplot as plt\n",
      "import seaborn\n",
      "import folium\n",
      "import vincent\n",
      "\n",
      "import datetime\n",
      "\n",
      "%matplotlib inline"
     ],
     "language": "python",
     "metadata": {},
     "outputs": [],
     "prompt_number": 284
    },
    {
     "cell_type": "code",
     "collapsed": false,
     "input": [
      "DATA_PATH = \"/Users/beingzy/Documents/Projects/zillow/data/\""
     ],
     "language": "python",
     "metadata": {},
     "outputs": [],
     "prompt_number": 3
    },
    {
     "cell_type": "code",
     "collapsed": false,
     "input": [
      "train_df = pd.read_csv(DATA_PATH + 'train_processed.csv', header = 0)\n",
      "new_df = pd.read_csv(DATA_PATH + 'valid_processed.csv', header = 0)\n",
      "## Collect propertyid with mutliple sales record\n",
      "dup_train_ids = train_df.propertyid[train_df.duplicated(['propertyid'])].unique()\n",
      "dup_new_ids = new_df.propertyid[new_df.duplicated(['propertyid'])].unique()\n",
      "\n",
      "## train_df -------\n",
      "train_df['transdate'] = pd.to_datetime(train_df['transdate'], \"%m/%d/%Y\")\n",
      "train_df['transdate_previous'] = pd.to_datetime(train_df['transdate_previous'], \"%m/%d/%Y\")\n",
      "train_df['builtyear'] = pd.to_datetime(train_df['builtyear'], \"%Y\")\n",
      "\n",
      "## new_df -------\n",
      "new_df['transdate'] = pd.to_datetime(new_df['transdate'], \"%m/%d/%Y\")\n",
      "new_df['transdate_previous'] = pd.to_datetime(new_df['transdate_previous'], \"%m/%d/%Y\")\n",
      "new_df['builtyear'] = pd.to_datetime(new_df['builtyear'], \"%Y\")"
     ],
     "language": "python",
     "metadata": {},
     "outputs": [],
     "prompt_number": 4
    },
    {
     "cell_type": "code",
     "collapsed": false,
     "input": [
      "exam_features = ['propertyid', 'transdate', 'transvalue', 'transdate_previous', 'transvalue_previous']\n",
      "dup_train = train_df[train_df['propertyid'].isin(dup_train_ids)]\n",
      "dup_train[exam_features].sort(['propertyid', 'transdate_previous'], ascending = False).head(5)"
     ],
     "language": "python",
     "metadata": {},
     "outputs": [
      {
       "html": [
        "<div style=\"max-height:1000px;max-width:1500px;overflow:auto;\">\n",
        "<table border=\"1\" class=\"dataframe\">\n",
        "  <thead>\n",
        "    <tr style=\"text-align: right;\">\n",
        "      <th></th>\n",
        "      <th>propertyid</th>\n",
        "      <th>transdate</th>\n",
        "      <th>transvalue</th>\n",
        "      <th>transdate_previous</th>\n",
        "      <th>transvalue_previous</th>\n",
        "    </tr>\n",
        "  </thead>\n",
        "  <tbody>\n",
        "    <tr>\n",
        "      <th>58 </th>\n",
        "      <td> 51406965</td>\n",
        "      <td>2005-09-30</td>\n",
        "      <td> 315900</td>\n",
        "      <td>2003-04-18</td>\n",
        "      <td> 240000</td>\n",
        "    </tr>\n",
        "    <tr>\n",
        "      <th>51 </th>\n",
        "      <td> 51406965</td>\n",
        "      <td>2005-09-30</td>\n",
        "      <td> 315900</td>\n",
        "      <td>2000-09-29</td>\n",
        "      <td> 228120</td>\n",
        "    </tr>\n",
        "    <tr>\n",
        "      <th>718</th>\n",
        "      <td> 49148205</td>\n",
        "      <td>2005-10-25</td>\n",
        "      <td> 273500</td>\n",
        "      <td>2004-04-22</td>\n",
        "      <td> 223000</td>\n",
        "    </tr>\n",
        "    <tr>\n",
        "      <th>719</th>\n",
        "      <td> 49148205</td>\n",
        "      <td>2005-10-25</td>\n",
        "      <td> 273500</td>\n",
        "      <td>1995-07-28</td>\n",
        "      <td> 134900</td>\n",
        "    </tr>\n",
        "    <tr>\n",
        "      <th>699</th>\n",
        "      <td> 49148205</td>\n",
        "      <td>2005-10-25</td>\n",
        "      <td> 273500</td>\n",
        "      <td>1994-09-28</td>\n",
        "      <td> 136000</td>\n",
        "    </tr>\n",
        "  </tbody>\n",
        "</table>\n",
        "</div>"
       ],
       "metadata": {},
       "output_type": "pyout",
       "prompt_number": 8,
       "text": [
        "     propertyid  transdate  transvalue transdate_previous  transvalue_previous\n",
        "58     51406965 2005-09-30      315900         2003-04-18               240000\n",
        "51     51406965 2005-09-30      315900         2000-09-29               228120\n",
        "718    49148205 2005-10-25      273500         2004-04-22               223000\n",
        "719    49148205 2005-10-25      273500         1995-07-28               134900\n",
        "699    49148205 2005-10-25      273500         1994-09-28               136000"
       ]
      }
     ],
     "prompt_number": 8
    },
    {
     "cell_type": "markdown",
     "metadata": {},
     "source": [
      "Collect the information from a house's historical transactions, particularly for house having mulitple trading history in past.\n",
      "There 3 fields had been created after this study:\n",
      "\n",
      "* **hist_trans_cnt**: how many times a residential unit had been traded,\n",
      "* **last_trans_val**: the value of the last transaction\n",
      "* **hist_loss_cnt**: how many times a previous sold the unit at loss position\n",
      "\n",
      "All the information were packed into a DataFrame, **```hist_summary```**."
     ]
    },
    {
     "cell_type": "code",
     "collapsed": false,
     "input": [
      "def recent_val(df, date_col, val_col, ascending = False):\n",
      "    \"\"\"\n",
      "    Return date-sorted values in val_col for the most recent\n",
      "    value if ascending = False\n",
      "    \n",
      "    Parameter\n",
      "    ---------\n",
      "    df: array-like, data for extracting values\n",
      "    date_col: string, column name(s) for date\n",
      "    val_col: string, column name(s) for value\n",
      "    \n",
      "    Return\n",
      "    ------\n",
      "    res: vector-like, [num_rows, value, num_loss]\n",
      "    \"\"\"\n",
      "    num_row = df.shape[0]\n",
      "    if num_row > 1:\n",
      "        df  = df.sort([date_col], ascending = ascending)\n",
      "        value = df[val_col].values[0]\n",
      "        diff = pd.Series(df[val_col].values[:-1] - df[val_col].values[1:])\n",
      "        num_loss = diff.apply(lambda x: 1 if x < 0 else 0).sum()\n",
      "    else:\n",
      "        value = df[val_col].values[0]\n",
      "        num_loss = 0\n",
      "    res = [num_row, value, num_loss]\n",
      "    return res"
     ],
     "language": "python",
     "metadata": {},
     "outputs": [],
     "prompt_number": 290
    },
    {
     "cell_type": "code",
     "collapsed": false,
     "input": [
      "def countHistTrans(df):\n",
      "    res = recent_val(df, date_col='transdate_previous', val_col='transvalue_previous', ascending = False)\n",
      "    return res[0]\n",
      "\n",
      "def getLastTransVal(df):\n",
      "    res = recent_val(df, date_col='transdate_previous', val_col='transvalue_previous', ascending = False)\n",
      "    return res[1]\n",
      "\n",
      "def countLossTrans(df):\n",
      "    res = recent_val(df, date_col='transdate_previous', val_col='transvalue_previous', ascending = False)\n",
      "    return res[2]\n",
      "\n",
      "temp = train_df[['transdate_previous', 'transvalue_previous']].groupby(train_df.propertyid)\n",
      "## Count how many times the unit being traded\n",
      "hist_trans_cnt = temp.aggregate(countHistTrans)\n",
      "hist_trans_cnt = hist_trans_cnt.iloc[:, :1]\n",
      "#hist_trans_cnt.columns = 'hist_trans_cnt'\n",
      "## Extract the value of last transaction\n",
      "last_trans_val = temp.aggregate(getLastTransVal)\n",
      "last_trans_val= last_trans_val.iloc[:, :1]\n",
      "#last_trans_val.columns = 'last_trans_val'\n",
      "## Count how many times the house had been traded at loss position\n",
      "hist_loss_cnt = temp.aggregate(countLossTrans)\n",
      "hist_loss_cnt = hist_loss_cnt.iloc[:, :1]\n",
      "#hist_loss_cnt.columns = 'hist_loss_cnt'\n",
      "hist_summary = pd.concat([hist_trans_cnt, last_trans_val, hist_loss_cnt], axis=1)\n",
      "hist_summary.columns = ['hist_trans_cnt', 'last_trans_val', 'hist_loss_cnt']"
     ],
     "language": "python",
     "metadata": {},
     "outputs": [],
     "prompt_number": 382
    },
    {
     "cell_type": "code",
     "collapsed": false,
     "input": [
      "f, ax = plt.subplots(4, 1, figsize=(10, 10))\n",
      "hist_summary.hist_trans_cnt.hist(ax=ax[0])\n",
      "hist_summary.hist_loss_cnt.hist(ax=ax[1])\n",
      "seaborn.kdeplot(hist_summary.last_trans_val.dropna(), ax=ax[2])\n",
      "seaborn.kdeplot(hist_summary.last_trans_val.dropna().apply(lambda x: np.log10(x)), ax=ax[3])"
     ],
     "language": "python",
     "metadata": {},
     "outputs": [
      {
       "metadata": {},
       "output_type": "pyout",
       "prompt_number": 403,
       "text": [
        "<matplotlib.axes.AxesSubplot at 0x112874310>"
       ]
      },
      {
       "metadata": {},
       "output_type": "display_data",
       "png": "[encoded data removed]",
       "text": [
        "<matplotlib.figure.Figure at 0x113f7df90>"
       ]
      }
     ],
     "prompt_number": 403
    },
    {
     "cell_type": "markdown",
     "metadata": {},
     "source": []
    },
    {
     "cell_type": "code",
     "collapsed": false,
     "input": [],
     "language": "python",
     "metadata": {},
     "outputs": [
      {
       "metadata": {},
       "output_type": "pyout",
       "prompt_number": 389,
       "text": [
        "pandas.core.frame.DataFrame"
       ]
      }
     ],
     "prompt_number": 389
    },
    {
     "cell_type": "code",
     "collapsed": false,
     "input": [],
     "language": "python",
     "metadata": {},
     "outputs": [],
     "prompt_number": 241
    },
    {
     "cell_type": "code",
     "collapsed": false,
     "input": [],
     "language": "python",
     "metadata": {},
     "outputs": [],
     "prompt_number": 241
    },
    {
     "cell_type": "raw",
     "metadata": {},
     "source": []
    },
    {
     "cell_type": "code",
     "collapsed": false,
     "input": [],
     "language": "python",
     "metadata": {},
     "outputs": [
      {
       "html": [
        "<div style=\"max-height:1000px;max-width:1500px;overflow:auto;\">\n",
        "<table border=\"1\" class=\"dataframe\">\n",
        "  <thead>\n",
        "    <tr style=\"text-align: right;\">\n",
        "      <th></th>\n",
        "      <th>date</th>\n",
        "      <th>id</th>\n",
        "      <th>val</th>\n",
        "    </tr>\n",
        "  </thead>\n",
        "  <tbody>\n",
        "    <tr>\n",
        "      <th>0</th>\n",
        "      <td>2014-01-01</td>\n",
        "      <td> a</td>\n",
        "      <td> 2</td>\n",
        "    </tr>\n",
        "    <tr>\n",
        "      <th>1</th>\n",
        "      <td>2014-02-01</td>\n",
        "      <td> a</td>\n",
        "      <td> 2</td>\n",
        "    </tr>\n",
        "    <tr>\n",
        "      <th>2</th>\n",
        "      <td>2014-03-03</td>\n",
        "      <td> b</td>\n",
        "      <td> 6</td>\n",
        "    </tr>\n",
        "    <tr>\n",
        "      <th>3</th>\n",
        "      <td>2014-05-20</td>\n",
        "      <td> c</td>\n",
        "      <td> 2</td>\n",
        "    </tr>\n",
        "    <tr>\n",
        "      <th>4</th>\n",
        "      <td>2014-02-27</td>\n",
        "      <td> d</td>\n",
        "      <td> 3</td>\n",
        "    </tr>\n",
        "    <tr>\n",
        "      <th>5</th>\n",
        "      <td>2014-10-01</td>\n",
        "      <td> c</td>\n",
        "      <td> 9</td>\n",
        "    </tr>\n",
        "  </tbody>\n",
        "</table>\n",
        "</div>"
       ],
       "metadata": {},
       "output_type": "pyout",
       "prompt_number": 146,
       "text": [
        "        date id  val\n",
        "0 2014-01-01  a    2\n",
        "1 2014-02-01  a    2\n",
        "2 2014-03-03  b    6\n",
        "3 2014-05-20  c    2\n",
        "4 2014-02-27  d    3\n",
        "5 2014-10-01  c    9"
       ]
      }
     ],
     "prompt_number": 146
    },
    {
     "cell_type": "code",
     "collapsed": false,
     "input": [],
     "language": "python",
     "metadata": {},
     "outputs": []
    }
   ],
   "metadata": {}
  }
 ]
}