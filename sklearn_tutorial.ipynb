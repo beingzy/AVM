{
 "metadata": {
  "name": "",
  "signature": "sha256:4755be02bac84876e1955319d2ce4e616e6512805ec7948211aaaf6ba61a3fb1"
 },
 "nbformat": 3,
 "nbformat_minor": 0,
 "worksheets": [
  {
   "cells": [
    {
     "cell_type": "markdown",
     "metadata": {},
     "source": [
      "# [Introduction to scikit-learn (I), SciPy 2013 Tutorial](https://www.youtube.com/watch?v=r4bRUvvlaBw)\n",
      "\n",
      "**author**:Gael Varoquaux, Jake Vanderplas, Olivier Grisel\n",
      "\n",
      "**github**:[https://github.com/jakevdp/sklearn_scipy2013](https://github.com/jakevdp/sklearn_scipy2013)\n",
      "\n",
      "### NumPy\n",
      "    ```\n",
      "    import numpy as np\n",
      "    from scipy import sparse\n",
      "    ```\n",
      "\n",
      "### Sklearn\n",
      "\n",
      "```\n",
      "import pickle\n",
      "s = pickle.dumps(clf)\n",
      "clf2 = pickle.loads(s)\n",
      "clf2.predict(X[0])"
     ]
    },
    {
     "cell_type": "markdown",
     "metadata": {},
     "source": [
      "# [Introduction to scikit-learn (II), Scipy 2013 Tutorial](https://www.youtube.com/watch?v=uX4ZirOiWkw)\n",
      "\n",
      "## Bias-Variance trade-off: Illustraction on a simple regression simple\n",
      " * Learning Curve and Bias/Variance Trade-off\n",
      " * Cross-validation  \n",
      " * Model Diagnosis\n",
      "   a. A high-bias model can be improved by:\n",
      "      a-1. Using a more sophisticated model\n",
      "      a-2. Gather more feature for each sample\n",
      "      a-3. Decrease regularization in a regularization model\n",
      "      \n",
      "   b. A high-variance model can be improved by:\n",
      "      b-1. Gathering more training samples\n",
      "      b-2. Using a less-sophisticate model\n",
      "      b-3. Increase regularization\n",
      " \n",
      " * Validation "
     ]
    },
    {
     "cell_type": "code",
     "collapsed": true,
     "input": [
      "import numpy as np\n",
      "import pandas as pd\n",
      "\n",
      "from sklearn import datasets\n",
      "from sklearn import svm\n",
      "from sklearn.linear_model import Ridge, Lasso\n",
      "from sklearn.cross_validation import cross_val_score\n",
      "from sklearn.grid_search import GridSearchCV\n",
      "from sklearn.metrics import "
     ],
     "language": "python",
     "metadata": {},
     "outputs": [],
     "prompt_number": 28
    },
    {
     "cell_type": "code",
     "collapsed": true,
     "input": [
      "data = datasets.load_diabetes()\n",
      "X, y = data.data, data.target"
     ],
     "language": "python",
     "metadata": {},
     "outputs": [],
     "prompt_number": 19
    },
    {
     "cell_type": "code",
     "collapsed": true,
     "input": [
      "for Model in [Ridge, Lasso]:\n",
      "    model = Model()\n",
      "    print Model.__name__, cross_val_score(model, X, y).mean()"
     ],
     "language": "python",
     "metadata": {},
     "outputs": [
      {
       "output_type": "stream",
       "stream": "stdout",
       "text": [
        "Ridge 0.409427438303\n",
        "Lasso 0.353800083299\n"
       ]
      }
     ],
     "prompt_number": 23
    },
    {
     "cell_type": "code",
     "collapsed": true,
     "input": [
      "## Hyperparmeter Optimization\n",
      "alphas = np.logspace(-3, -1, 30)"
     ],
     "language": "python",
     "metadata": {},
     "outputs": [],
     "prompt_number": 24
    },
    {
     "cell_type": "code",
     "collapsed": true,
     "input": [
      "res = []\n",
      "for i in alphas:\n",
      "    for Model in [Ridge, Lasso]:\n",
      "        model = Model(alpha=i)\n",
      "        res.append([Model.__name__, i, cross_val_score(model, X, y).mean()])"
     ],
     "language": "python",
     "metadata": {},
     "outputs": [],
     "prompt_number": 32
    },
    {
     "cell_type": "code",
     "collapsed": true,
     "input": [
      "for Model in [Ridge, Lasso]:\n",
      "    gscv = GridSearchCV(Model(), dict(alpha=alphas), cv=3).fit(X, y)\n",
      "    print Model.__name__, gscv.best_params_"
     ],
     "language": "python",
     "metadata": {},
     "outputs": [
      {
       "output_type": "stream",
       "stream": "stdout",
       "text": [
        "Ridge {'alpha': 0.062101694189156162}\n",
        "Lasso"
       ]
      },
      {
       "output_type": "stream",
       "stream": "stdout",
       "text": [
        " {'alpha': 0.01268961003167922}\n"
       ]
      }
     ],
     "prompt_number": 37
    },
    {
     "cell_type": "markdown",
     "metadata": {},
     "source": [
      "## In depth with SVMs: Support Vector Machines\n",
      "### Linear SVMs: some intuitions\n",
      "* support vector:\n",
      "  a. Low C values: many support vectors: Decision\n",
      "  b. High C values: small number of support vectors: Decision frontier fully driven by most descriminant samples\n",
      "* kernels:\n",
      "  a. linear\n",
      "  b. poly\n",
      "  c. rbf"
     ]
    },
    {
     "cell_type": "code",
     "collapsed": true,
     "input": [
      "from sklearn import svm"
     ],
     "language": "python",
     "metadata": {},
     "outputs": [],
     "prompt_number": 38
    },
    {
     "cell_type": "code",
     "collapsed": false,
     "input": [
      "svc = svm.SVC(kernel='linear')\n",
      "iris = datasets.load_iris()\n",
      "X = iris.data[:, :2]\n",
      "y = iris.target"
     ],
     "language": "python",
     "metadata": {},
     "outputs": []
    },
    {
     "cell_type": "markdown",
     "metadata": {},
     "source": [
      "## Estimators In Depth: Trees and Forests"
     ]
    },
    {
     "cell_type": "code",
     "collapsed": false,
     "input": [
      "from sklearn.tree import DecisionTreeRegressor\n",
      "from sklearn.ensemble import RandomForestRegressor\n",
      "from sklearn.ensemble import GradientBoostingRegressor\n",
      "clf = DecisionTreeRegressor(max_depth=5)"
     ],
     "language": "python",
     "metadata": {},
     "outputs": [],
     "prompt_number": 39
    },
    {
     "cell_type": "markdown",
     "metadata": {},
     "source": [
      "# Linear Models for Regression\n",
      " #### Various Models\n",
      " 1. linearRegersssion()\n",
      " 2. Ridge()\n",
      " 3. Lasso()\n",
      " 4. ElasticNetCV(): L1_ratio, when =0, it turns out to be Ridge, when =1, it turns out to be Lasso\n",
      " 5. LogisticRegression():\n",
      "     * Regularization: 'C' parameter controls that regularization:\n",
      "       a. If C is large, it gives an unregularized model;\n",
      "       b. If C is small, it gives a strongly regularized model.\n",
      "     * Multi-class: one-vs-all approach\n",
      " \n",
      " #### Notices:\n",
      " 1. Different algorithm for the same problem\n",
      " 2. Normalization/Standization/Scaling\n",
      " \n",
      "# Dimensionality Reduction: PCA, MDS\n",
      "Other dimensionallity reduction techniques which are useful to know about:\n",
      " * **sklearn.decomposition.PCA**: Principal Componenet Analysis\n",
      " * **sklearn.decomposition.RandomizedPCA**: fast non-exact PCA implementation based on a randomized algorithm\n",
      " * **sklearn.decomposition.SparsePCA**: PCA variant including L1 Penalty for sparsity\n",
      " * **sklearn.decomposition.FastICA**: Independent Component Analysis\n",
      " * **sklearn.decomposition.NMF**: non-negative matrix factorization\n",
      " * **sklearn.manifold.LocallyLinearEmbedding**: nonlinear manifold learning technique based on local neigborhood geometry\n",
      " * **sklearn.manifold.IsoMap**: nonlinear manifold learning technique based on a sparse graph algorithm\n",
      "\n",
      "# Feature Selection\n",
      " * sklearn.feature_selection.SelectPercentile(percentile=5, score_func=feature_selection.chi2)\n"
     ]
    },
    {
     "cell_type": "code",
     "collapsed": false,
     "input": [
      "import numpy as np\n",
      "import pandas as pd\n",
      "\n",
      "from sklearn import linear_model, cross_validation\n",
      "\n",
      "#import matplotlib.pyplot as plt\n",
      "import pylab as pl\n",
      "%pylab inline"
     ],
     "language": "python",
     "metadata": {},
     "outputs": [
      {
       "output_type": "stream",
       "stream": "stdout",
       "text": [
        "Populating the interactive namespace from numpy and matplotlib\n"
       ]
      }
     ],
     "prompt_number": 54
    },
    {
     "cell_type": "code",
     "collapsed": false,
     "input": [
      "rng = np.random.RandomState(0)\n",
      "X = rng.normal(size = (1000, 50))\n",
      "beta = rng.normal(size=50)\n",
      "y = np.dot(X, beta) + 4 * rng.normal(size = 1000)"
     ],
     "language": "python",
     "metadata": {},
     "outputs": [],
     "prompt_number": 43
    },
    {
     "cell_type": "code",
     "collapsed": false,
     "input": [
      "def plot_learning_curve(estimator):\n",
      "    '''Plot the learning curve of an estimator'''\n",
      "    scores = list()\n",
      "    train_sizes = np.linspace(50, 250, 20).astype(np.int)\n",
      "    for train_size in train_sizes:\n",
      "        test_error = cross_validation.cross_val_score(estimator, X, y, \n",
      "                                                      #cv = cross_validation.ShuffleSplit(train_size=train_size, \n",
      "                                                      #                                   random_state=0)\n",
      "                                                      cv = 10\n",
      "                                                      )\n",
      "        scores.append(test_error)\n",
      "    plt.plot(train_sizes, np.mean(scores, axis=1), label=estimator.__class__.__name__)\n",
      "    plt.ylim(0, 1)\n",
      "    plt.ylabel('Explained variance on test set')\n",
      "    plt.xlabel('Training set size')\n",
      "    plt.legend(loc='best')"
     ],
     "language": "python",
     "metadata": {},
     "outputs": [],
     "prompt_number": 52
    },
    {
     "cell_type": "code",
     "collapsed": false,
     "input": [
      "plot_learning_curve(linear_model.LinearRegression())"
     ],
     "language": "python",
     "metadata": {},
     "outputs": [],
     "prompt_number": 51
    },
    {
     "cell_type": "markdown",
     "metadata": {},
     "source": [
      "# Pipelining\n",
      " A transformer and a predictor can be combined to form a predictor using the pipline object.\n",
      " \n",
      " * Name model parameter within pipeline\n",
      "  pipeline.set_params(svc__c = 10)"
     ]
    },
    {
     "cell_type": "code",
     "collapsed": false,
     "input": [
      "from sklearn.pipeline import Pipeline\n",
      "from sklearn.svm import LinearSVC\n",
      "from sklearn.cross_validation import cross_val_score\n",
      "\n",
      "#svc = LinearSVC()\n",
      "#pipline = Pipeline([('vectorize', vectorizer), ('select', selector), ('svc', svc)])\n",
      "from sklearn.externals import joblib\n",
      "memory = joblib.Memory(cachedir=\".\")\n",
      "memory.clear()\n",
      "selector.score_func = memory.cache(selector.score_func)\n",
      "\n",
      "import os\n",
      "\n",
      "from sklearn.grid_search import GridSearchCV\n",
      "grid = GridSearchCV(pipline, )"
     ],
     "language": "python",
     "metadata": {},
     "outputs": [
      {
       "output_type": "stream",
       "stream": "stderr",
       "text": [
        "WARNING:root:[Memory(cachedir='./joblib')]: Flushing completely the cache\n"
       ]
      },
      {
       "ename": "NameError",
       "evalue": "name 'selector' is not defined",
       "output_type": "pyerr",
       "traceback": [
        "\u001b[0;31m---------------------------------------------------------------------------\u001b[0m\n\u001b[0;31mNameError\u001b[0m                                 Traceback (most recent call last)",
        "\u001b[0;32m<ipython-input-63-9e2f137f4dee>\u001b[0m in \u001b[0;36m<module>\u001b[0;34m()\u001b[0m\n\u001b[1;32m      8\u001b[0m \u001b[0mmemory\u001b[0m \u001b[0;34m=\u001b[0m \u001b[0mjoblib\u001b[0m\u001b[0;34m.\u001b[0m\u001b[0mMemory\u001b[0m\u001b[0;34m(\u001b[0m\u001b[0mcachedir\u001b[0m\u001b[0;34m=\u001b[0m\u001b[0;34m\".\"\u001b[0m\u001b[0;34m)\u001b[0m\u001b[0;34m\u001b[0m\u001b[0m\n\u001b[1;32m      9\u001b[0m \u001b[0mmemory\u001b[0m\u001b[0;34m.\u001b[0m\u001b[0mclear\u001b[0m\u001b[0;34m(\u001b[0m\u001b[0;34m)\u001b[0m\u001b[0;34m\u001b[0m\u001b[0m\n\u001b[0;32m---> 10\u001b[0;31m \u001b[0mselector\u001b[0m\u001b[0;34m.\u001b[0m\u001b[0mscore_func\u001b[0m \u001b[0;34m=\u001b[0m \u001b[0mmemory\u001b[0m\u001b[0;34m.\u001b[0m\u001b[0mcache\u001b[0m\u001b[0;34m(\u001b[0m\u001b[0mselector\u001b[0m\u001b[0;34m.\u001b[0m\u001b[0mscore_func\u001b[0m\u001b[0;34m)\u001b[0m\u001b[0;34m\u001b[0m\u001b[0m\n\u001b[0m\u001b[1;32m     11\u001b[0m \u001b[0;34m\u001b[0m\u001b[0m\n\u001b[1;32m     12\u001b[0m \u001b[0;32mimport\u001b[0m \u001b[0mos\u001b[0m\u001b[0;34m\u001b[0m\u001b[0m\n",
        "\u001b[0;31mNameError\u001b[0m: name 'selector' is not defined"
       ]
      }
     ],
     "prompt_number": 63
    },
    {
     "cell_type": "markdown",
     "metadata": {},
     "source": [
      "## Distributed Model Selection and Assessment\n",
      "\n",
      "#### 1. IPython.parallel\n",
      "  * Single node multi-CPUs\n",
      "  * Multiple node multi-CPUs\n",
      "  * Interactive In-memory computing\n",
      "  * IPython notebook integration with %px and %%px magics\n",
      "  * Possibility to interactively connect to individual computing processes to launch interactive debugger (#priceless)\n",
      "  ```\n",
      "  import IPython.parallel import Client\n",
      "  client = Client()\n",
      "  ```\n",
      "  * %px %%px\n",
      "  * command ```ipcluster start --n=4```\n",
      "  \n",
      "#### 2."
     ]
    },
    {
     "cell_type": "code",
     "collapsed": false,
     "input": [
      "from IPython.parallel import Client\n",
      "client = Client()"
     ],
     "language": "python",
     "metadata": {},
     "outputs": [
      {
       "ename": "IOError",
       "evalue": "[Errno 2] No such file or directory: u'/Users/beingzy/.ipython/profile_default/security/ipcontroller-client.json'",
       "output_type": "pyerr",
       "traceback": [
        "\u001b[0;31m---------------------------------------------------------------------------\u001b[0m\n\u001b[0;31mIOError\u001b[0m                                   Traceback (most recent call last)",
        "\u001b[0;32m<ipython-input-61-5078f322a92d>\u001b[0m in \u001b[0;36m<module>\u001b[0;34m()\u001b[0m\n\u001b[1;32m      1\u001b[0m \u001b[0;32mfrom\u001b[0m \u001b[0mIPython\u001b[0m\u001b[0;34m.\u001b[0m\u001b[0mparallel\u001b[0m \u001b[0;32mimport\u001b[0m \u001b[0mClient\u001b[0m\u001b[0;34m\u001b[0m\u001b[0m\n\u001b[0;32m----> 2\u001b[0;31m \u001b[0mclient\u001b[0m \u001b[0;34m=\u001b[0m \u001b[0mClient\u001b[0m\u001b[0;34m(\u001b[0m\u001b[0;34m)\u001b[0m\u001b[0;34m\u001b[0m\u001b[0m\n\u001b[0m",
        "\u001b[0;32m/Applications/anaconda/lib/python2.7/site-packages/IPython/parallel/client/client.pyc\u001b[0m in \u001b[0;36m__init__\u001b[0;34m(self, url_file, profile, profile_dir, ipython_dir, context, debug, sshserver, sshkey, password, paramiko, timeout, cluster_id, **extra_args)\u001b[0m\n\u001b[1;32m    409\u001b[0m             )\n\u001b[1;32m    410\u001b[0m \u001b[0;34m\u001b[0m\u001b[0m\n\u001b[0;32m--> 411\u001b[0;31m         \u001b[0;32mwith\u001b[0m \u001b[0mopen\u001b[0m\u001b[0;34m(\u001b[0m\u001b[0murl_file\u001b[0m\u001b[0;34m)\u001b[0m \u001b[0;32mas\u001b[0m \u001b[0mf\u001b[0m\u001b[0;34m:\u001b[0m\u001b[0;34m\u001b[0m\u001b[0m\n\u001b[0m\u001b[1;32m    412\u001b[0m             \u001b[0mcfg\u001b[0m \u001b[0;34m=\u001b[0m \u001b[0mjson\u001b[0m\u001b[0;34m.\u001b[0m\u001b[0mload\u001b[0m\u001b[0;34m(\u001b[0m\u001b[0mf\u001b[0m\u001b[0;34m)\u001b[0m\u001b[0;34m\u001b[0m\u001b[0m\n\u001b[1;32m    413\u001b[0m \u001b[0;34m\u001b[0m\u001b[0m\n",
        "\u001b[0;31mIOError\u001b[0m: [Errno 2] No such file or directory: u'/Users/beingzy/.ipython/profile_default/security/ipcontroller-client.json'"
       ]
      }
     ],
     "prompt_number": 61
    },
    {
     "cell_type": "code",
     "collapsed": false,
     "input": [
      "import os\n",
      "import psutil\n",
      "os.getpid()"
     ],
     "language": "python",
     "metadata": {},
     "outputs": [
      {
       "metadata": {},
       "output_type": "pyout",
       "prompt_number": 65,
       "text": [
        "5786"
       ]
      }
     ],
     "prompt_number": 65
    },
    {
     "cell_type": "code",
     "collapsed": false,
     "input": [],
     "language": "python",
     "metadata": {},
     "outputs": []
    }
   ],
   "metadata": {}
  }
 ]
}