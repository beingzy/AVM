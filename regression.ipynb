{
 "metadata": {
  "name": "",
  "signature": "sha256:ace75b4338442473348d55755490f6ac2831841c2dc85ff83fdd8397bff4132f"
 },
 "nbformat": 3,
 "nbformat_minor": 0,
 "worksheets": [
  {
   "cells": [
    {
     "cell_type": "markdown",
     "metadata": {},
     "source": [
      "### Regression Investigation\n",
      "Investigate the method to inject custom loss function in sklearn module."
     ]
    },
    {
     "cell_type": "code",
     "collapsed": false,
     "input": [
      "import pandas as pd\n",
      "import numpy as np\n",
      "\n",
      "import matplotlib as mpt\n",
      "import matplotlib.pyplot as plt\n",
      "import seaborn\n",
      "import vincent\n",
      "\n",
      "import os\n",
      "\n",
      "%matplotlib inline"
     ],
     "language": "python",
     "metadata": {},
     "outputs": [],
     "prompt_number": 46
    },
    {
     "cell_type": "markdown",
     "metadata": {},
     "source": [
      "Load toy datasets"
     ]
    },
    {
     "cell_type": "code",
     "collapsed": false,
     "input": [
      "from sklearn import datasets\n",
      "\n",
      "DATA_PATH = os.getcwd() + '/data/'\n",
      "train_df = pd.read_csv(DATA_PATH + 'training.csv', header=0)\n",
      "new_df = pd.read_csv(DATA_PATH + 'validation.csv', header=0)\n",
      "train_df = train_df.set_index('propertyid')\n",
      "new_df = new_df.set_index('propertyid')\n",
      "\n",
      "## Unpack predictor and response\n",
      "X, y = train_df.drop(['transvalue'], axis=1), train_df['transvalue']"
     ],
     "language": "python",
     "metadata": {},
     "outputs": [
      {
       "html": [
        "<div style=\"max-height:1000px;max-width:1500px;overflow:auto;\">\n",
        "<table border=\"1\" class=\"dataframe\">\n",
        "  <thead>\n",
        "    <tr style=\"text-align: right;\">\n",
        "      <th></th>\n",
        "      <th>transdate</th>\n",
        "      <th>transdate_previous</th>\n",
        "      <th>transvalue_previous</th>\n",
        "      <th>bathroomcnt</th>\n",
        "      <th>bedroomcnt</th>\n",
        "      <th>builtyear</th>\n",
        "      <th>finishedsquarefeet</th>\n",
        "      <th>lotsizesquarefeet</th>\n",
        "      <th>storycnt</th>\n",
        "      <th>latitude</th>\n",
        "      <th>longitude</th>\n",
        "      <th>usecode</th>\n",
        "      <th>censustract</th>\n",
        "      <th>viewtypeid</th>\n",
        "    </tr>\n",
        "    <tr>\n",
        "      <th>propertyid</th>\n",
        "      <th></th>\n",
        "      <th></th>\n",
        "      <th></th>\n",
        "      <th></th>\n",
        "      <th></th>\n",
        "      <th></th>\n",
        "      <th></th>\n",
        "      <th></th>\n",
        "      <th></th>\n",
        "      <th></th>\n",
        "      <th></th>\n",
        "      <th></th>\n",
        "      <th></th>\n",
        "      <th></th>\n",
        "    </tr>\n",
        "  </thead>\n",
        "  <tbody>\n",
        "    <tr>\n",
        "      <th>48650729</th>\n",
        "      <td> 11/16/2005</td>\n",
        "      <td> 12/16/1994</td>\n",
        "      <td> 129500</td>\n",
        "      <td> 2.00</td>\n",
        "      <td> 3</td>\n",
        "      <td> 1964</td>\n",
        "      <td> 2110</td>\n",
        "      <td>  8413</td>\n",
        "      <td> 1</td>\n",
        "      <td> 47469470</td>\n",
        "      <td>-122282926</td>\n",
        "      <td> 9</td>\n",
        "      <td> 28200</td>\n",
        "      <td>NaN</td>\n",
        "    </tr>\n",
        "    <tr>\n",
        "      <th>48650769</th>\n",
        "      <td>  9/23/2005</td>\n",
        "      <td>  11/3/1998</td>\n",
        "      <td> 138000</td>\n",
        "      <td> 0.75</td>\n",
        "      <td> 2</td>\n",
        "      <td> 1942</td>\n",
        "      <td> 1220</td>\n",
        "      <td> 16867</td>\n",
        "      <td> 1</td>\n",
        "      <td> 47468266</td>\n",
        "      <td>-122283976</td>\n",
        "      <td> 9</td>\n",
        "      <td> 28200</td>\n",
        "      <td>NaN</td>\n",
        "    </tr>\n",
        "    <tr>\n",
        "      <th>48650769</th>\n",
        "      <td>  9/23/2005</td>\n",
        "      <td>  7/26/2002</td>\n",
        "      <td> 184000</td>\n",
        "      <td> 0.75</td>\n",
        "      <td> 2</td>\n",
        "      <td> 1942</td>\n",
        "      <td> 1220</td>\n",
        "      <td> 16867</td>\n",
        "      <td> 1</td>\n",
        "      <td> 47468266</td>\n",
        "      <td>-122283976</td>\n",
        "      <td> 9</td>\n",
        "      <td> 28200</td>\n",
        "      <td>NaN</td>\n",
        "    </tr>\n",
        "    <tr>\n",
        "      <th>48650837</th>\n",
        "      <td> 11/29/2005</td>\n",
        "      <td>        NaN</td>\n",
        "      <td>    NaN</td>\n",
        "      <td> 1.00</td>\n",
        "      <td> 3</td>\n",
        "      <td> 1935</td>\n",
        "      <td> 1060</td>\n",
        "      <td> 39060</td>\n",
        "      <td> 1</td>\n",
        "      <td> 47469990</td>\n",
        "      <td>-122275028</td>\n",
        "      <td> 9</td>\n",
        "      <td> 28200</td>\n",
        "      <td>NaN</td>\n",
        "    </tr>\n",
        "    <tr>\n",
        "      <th>48651057</th>\n",
        "      <td> 11/16/2005</td>\n",
        "      <td>  5/30/1995</td>\n",
        "      <td> 552000</td>\n",
        "      <td> 2.25</td>\n",
        "      <td> 4</td>\n",
        "      <td> 1991</td>\n",
        "      <td> 5410</td>\n",
        "      <td> 15002</td>\n",
        "      <td> 1</td>\n",
        "      <td> 47332382</td>\n",
        "      <td>-122355990</td>\n",
        "      <td> 9</td>\n",
        "      <td> 30100</td>\n",
        "      <td>  3</td>\n",
        "    </tr>\n",
        "  </tbody>\n",
        "</table>\n",
        "</div>"
       ],
       "metadata": {},
       "output_type": "pyout",
       "prompt_number": 52,
       "text": [
        "             transdate transdate_previous  transvalue_previous  bathroomcnt  \\\n",
        "propertyid                                                                    \n",
        "48650729    11/16/2005         12/16/1994               129500         2.00   \n",
        "48650769     9/23/2005          11/3/1998               138000         0.75   \n",
        "48650769     9/23/2005          7/26/2002               184000         0.75   \n",
        "48650837    11/29/2005                NaN                  NaN         1.00   \n",
        "48651057    11/16/2005          5/30/1995               552000         2.25   \n",
        "\n",
        "            bedroomcnt  builtyear  finishedsquarefeet  lotsizesquarefeet  \\\n",
        "propertyid                                                                 \n",
        "48650729             3       1964                2110               8413   \n",
        "48650769             2       1942                1220              16867   \n",
        "48650769             2       1942                1220              16867   \n",
        "48650837             3       1935                1060              39060   \n",
        "48651057             4       1991                5410              15002   \n",
        "\n",
        "            storycnt  latitude  longitude  usecode  censustract  viewtypeid  \n",
        "propertyid                                                                   \n",
        "48650729           1  47469470 -122282926        9        28200         NaN  \n",
        "48650769           1  47468266 -122283976        9        28200         NaN  \n",
        "48650769           1  47468266 -122283976        9        28200         NaN  \n",
        "48650837           1  47469990 -122275028        9        28200         NaN  \n",
        "48651057           1  47332382 -122355990        9        30100           3  "
       ]
      }
     ],
     "prompt_number": 52
    },
    {
     "cell_type": "markdown",
     "metadata": {},
     "source": [
      "### 1. Data Prepration: Missing Data Handling, Categorical Variable Recoding"
     ]
    },
    {
     "cell_type": "code",
     "collapsed": false,
     "input": [
      "def basic_prep(data, col):\n",
      "    \"\"\"\n",
      "    Data Preparation\n",
      "    Todos:\n",
      "       1. Make a copy of the original dataset but with categorical variables (development purpose only)\n",
      "       2. \n",
      "       \n",
      "    Parameters\n",
      "    ----------\n",
      "    \n",
      "    Returns\n",
      "    -------\n",
      "    \n",
      "    \"\"\"\n",
      "    pass\n",
      "\n",
      "\n",
      "def yTranformer(y, rev=False):\n",
      "    \"\"\"\n",
      "    Transform repsonse variable, np.log10()\n",
      "    * choose base=10 for its ease of interpration\n",
      "    * through, base=e could be faster\n",
      "    \n",
      "    Parameters\n",
      "    ----------\n",
      "    y: vector-like, \n",
      "    rev: boolean,\n",
      "    Returns\n",
      "    -------\n",
      "    res: logorithm of y at base 10\n",
      "    \"\"\"\n",
      "    if not rev:\n",
      "        res = np.log10(y)\n",
      "    else:\n",
      "        res = 10 ** y\n",
      "    return res"
     ],
     "language": "python",
     "metadata": {},
     "outputs": [],
     "prompt_number": 108
    },
    {
     "cell_type": "markdown",
     "metadata": {},
     "source": [
      "### Split train data into 2 subsets for training and testing\n",
      "Training set and testing set are splitted from data carrying known response value ('/data/training.csv'). \n",
      "* The testing set are utilized only for model assessment in order to estimate the generalization error of the selected model. \n",
      "* On other hand, training data will be used for model selection within either k-fold cross-validation or boostraping cross-validation."
     ]
    },
    {
     "cell_type": "code",
     "collapsed": false,
     "input": [
      "from sklearn.cross_validation import train_test_split\n",
      "X_train, X_test, y_train, y_test = train_test_split(X, y, test_size=0.1, random_state=42)\n",
      "## Restrucutre data\n",
      "X_train = pd.DataFrame(X_train, columns = X.columns)\n",
      "y_train = pd.Series(y_train)\n",
      "X_test = pd.DataFrame(X_test, columns = X.columns)\n",
      "y_test = pd.Series(y_test)\n",
      "print \"-------------------------------------------------------------------------------\"\n",
      "print \"#obs for train (for train + validation): {0}\".format(X_train.shape[0])\n",
      "print \"#obs for test (for generalization error estimation): {0}\".format(X_test.shape[0])\n",
      "print \"-------------------------------------------------------------------------------\"\n",
      "\n",
      "## Histogram to examine the goodness of reandom sampling:\n",
      "fig, axes = plt.subplots(figsize=(12,5))\n",
      "\n",
      "data1 = y_train.apply(lambda x: yTranformer(x))\n",
      "data2 = y_test.apply(lambda x: yTranformer(x))\n",
      "axes.hist(data1, bins=15, normed=True, color=\"#6495ED\", alpha=.5)\n",
      "axes.hist(data2, bins=15, normed=True, color=\"#F08080\", alpha=.5)"
     ],
     "language": "python",
     "metadata": {},
     "outputs": [
      {
       "output_type": "stream",
       "stream": "stdout",
       "text": [
        "-------------------------------------------------------------------------------\n",
        "#obs for train (for train + validation): 2297\n",
        "#obs for test (for generalization error estimation): 256\n",
        "-------------------------------------------------------------------------------\n"
       ]
      },
      {
       "metadata": {},
       "output_type": "pyout",
       "prompt_number": 85,
       "text": [
        "(array([ 0.02020045,  0.        ,  0.02020045,  0.        ,  0.08080182,\n",
        "         1.49483366,  2.14124822,  1.0302232 ,  0.24240546,  0.08080182,\n",
        "         0.        ,  0.02020045,  0.        ,  0.02020045,  0.02020045]),\n",
        " array([ 4.34242268,  4.53579704,  4.7291714 ,  4.92254575,  5.11592011,\n",
        "         5.30929447,  5.50266883,  5.69604319,  5.88941754,  6.0827919 ,\n",
        "         6.27616626,  6.46954062,  6.66291498,  6.85628933,  7.04966369,\n",
        "         7.24303805]),\n",
        " <a list of 15 Patch objects>)"
       ]
      },
      {
       "metadata": {},
       "output_type": "display_data",
       "png": "[encoded data removed]",
       "text": [
        "<matplotlib.figure.Figure at 0x10f3458d0>"
       ]
      }
     ],
     "prompt_number": 85
    },
    {
     "cell_type": "markdown",
     "metadata": {},
     "source": [
      "The above histogram displays the distributions of log(transvalue) in train (in blue) and test (in red). In train data set, the samples seem to be more concentrated and covering a wider range in prices. \n",
      " * Concentration on mid-range could understimate generalization error, given a good learner;\n",
      " * Inclusion of units whose prices are beyond the coverage of trianing sample could provide fair view on the generalization of a model."
     ]
    },
    {
     "cell_type": "code",
     "collapsed": false,
     "input": [
      "X_train.columns"
     ],
     "language": "python",
     "metadata": {},
     "outputs": [
      {
       "metadata": {},
       "output_type": "pyout",
       "prompt_number": 82,
       "text": [
        "Index([u'transdate', u'transdate_previous', u'transvalue_previous', u'bathroomcnt', u'bedroomcnt', u'builtyear', u'finishedsquarefeet', u'lotsizesquarefeet', u'storycnt', u'latitude', u'longitude', u'usecode', u'censustract', u'viewtypeid'], dtype='object')"
       ]
      }
     ],
     "prompt_number": 82
    },
    {
     "cell_type": "code",
     "collapsed": false,
     "input": [
      "from sklearn.preprocessing import Imputer\n",
      "\n",
      "## Feature selection (manuallly for development purpose only) --------------\n",
      "predictor = ['bathroomcnt', 'bedroomcnt', 'finishedsquarefeet', 'lotsizesquarefeet', 'storycnt']\n",
      "## Missing Value Imputation ------------------------------------------------\n",
      "missing_handler = Imputer(strategy=\"mean\")\n",
      "missing_handler.fit(X_train[predictor])\n",
      "X_train[predictor] = missing_handler.transform(X_train[predictor])\n",
      "X_test[predictor] = missing_handler.transform(X_test[predictor])\n",
      "## Respoonse variable transformation ---------------------------------------\n",
      "y_train = y_train.apply(lambda x: yTranformer(x))\n",
      "y_test = y_test.apply(lambda x: yTranformer(x))"
     ],
     "language": "python",
     "metadata": {},
     "outputs": [],
     "prompt_number": 112
    },
    {
     "cell_type": "markdown",
     "metadata": {},
     "source": [
      "### 2. Ordinal Linear Regression\n",
      "#### 2-1. Fitting Linear Regression with training data, validation data, testing data"
     ]
    },
    {
     "cell_type": "code",
     "collapsed": false,
     "input": [
      "from sklearn import linear_model"
     ],
     "language": "python",
     "metadata": {},
     "outputs": [],
     "prompt_number": 113
    },
    {
     "cell_type": "code",
     "collapsed": false,
     "input": [
      "# Create linear Regressor\n",
      "regr = linear_model.LinearRegression(normalize=True)\n",
      "regr.fit(X_train[predictor], y_train)"
     ],
     "language": "python",
     "metadata": {},
     "outputs": [
      {
       "metadata": {},
       "output_type": "pyout",
       "prompt_number": 114,
       "text": [
        "LinearRegression(copy_X=True, fit_intercept=True, normalize=True)"
       ]
      }
     ],
     "prompt_number": 114
    },
    {
     "cell_type": "code",
     "collapsed": false,
     "input": [
      "regr.intercept_, regr.coef_"
     ],
     "language": "python",
     "metadata": {},
     "outputs": [
      {
       "metadata": {},
       "output_type": "pyout",
       "prompt_number": 115,
       "text": [
        "(0.72601480473623348,\n",
        " array([ -1.04316023e-03,  -1.93592927e-03,   1.37287159e-05,\n",
        "         -8.08524118e-09,   2.90416348e-03]))"
       ]
      }
     ],
     "prompt_number": 115
    },
    {
     "cell_type": "code",
     "collapsed": false,
     "input": [
      "regr.score(X_train[predictor], y_train), regr.score(X_test[predictor], y_test)"
     ],
     "language": "python",
     "metadata": {},
     "outputs": [
      {
       "metadata": {},
       "output_type": "pyout",
       "prompt_number": 111,
       "text": [
        "(0.50744437263878561, 0.50165591634408613)"
       ]
      }
     ],
     "prompt_number": 111
    },
    {
     "cell_type": "code",
     "collapsed": false,
     "input": [
      "y_train_hat = regr.predict(X_train[predictor])\n",
      "y_test_hat = regr.predict(X_test[predictor])\n",
      "train_residuals = y_train_hat - y_train\n",
      "test_residuals = y_test_hat - y_test\n",
      "## Plot residuals vs. log(y)\n",
      "fig, axes = plt.subplots(figsize=(12, 12))\n",
      "\n",
      "axes.scatter(y_train, train_residuals, 'r')\n",
      "axes.scatter(y_test, test_residuals, 'b')\n",
      "axes.set_xlabel('y_hat(log)')\n",
      "axes.set_ylabel('log(y)')\n",
      "axes.set_title('Residuals(log) vs. Log(Transvalue)');"
     ],
     "language": "python",
     "metadata": {},
     "outputs": [
      {
       "metadata": {},
       "output_type": "display_data",
       "text": [
        "<matplotlib.figure.Figure at 0x1105866d0>"
       ]
      }
     ],
     "prompt_number": 128
    },
    {
     "cell_type": "code",
     "collapsed": false,
     "input": [
      "## Decision-Tree-based Feature Selection "
     ],
     "language": "python",
     "metadata": {},
     "outputs": [],
     "prompt_number": 129
    },
    {
     "cell_type": "code",
     "collapsed": false,
     "input": [
      "from sklearn.ensemble import ExtraTreesClassifier\n",
      "tree_clf = ExtraTreesClassifier()\n",
      "X_new = tree_clf.fit(X_train[predictor], y_train).transform(X_train[predictor])"
     ],
     "language": "python",
     "metadata": {},
     "outputs": [],
     "prompt_number": 135
    },
    {
     "cell_type": "code",
     "collapsed": false,
     "input": [
      "feature_importance = pd.DataFrame(zip(predictor, tree_clf.feature_importances_), \n",
      "                                  columns = ['feature', 'tree_based_feature_importance'])\n",
      "feature_importance.sort(['tree_based_feature_importance'], ascending = False, inplace=True)\n",
      "print \"********* Feautre Importance (tree-based selection) **************\"\n",
      "print feature_importance\n",
      "print \"******************************************************************\""
     ],
     "language": "python",
     "metadata": {},
     "outputs": [
      {
       "output_type": "stream",
       "stream": "stdout",
       "text": [
        "********* Feautre Importance (tree-based selection) **************\n",
        "              feature  tree_based_feature_importance\n",
        "3   lotsizesquarefeet                       0.466080\n",
        "2  finishedsquarefeet                       0.405319\n",
        "0         bathroomcnt                       0.073780\n",
        "1          bedroomcnt                       0.046413\n",
        "4            storycnt                       0.008408\n",
        "******************************************************************\n"
       ]
      }
     ],
     "prompt_number": 147
    },
    {
     "cell_type": "markdown",
     "metadata": {},
     "source": [
      "### Cross-validation"
     ]
    },
    {
     "cell_type": "code",
     "collapsed": false,
     "input": [
      "from sklearn import cross_validation\n",
      "from sklearn.linear_model import Ridge\n",
      "from sklearn.linear_model import LinearRegression"
     ],
     "language": "python",
     "metadata": {},
     "outputs": [],
     "prompt_number": 168
    },
    {
     "cell_type": "code",
     "collapsed": false,
     "input": [
      "lr = LinearRegression(fit_intercept=True, normalize=True)\n",
      "ridge = Ridge(alpha=88.862381627434075)"
     ],
     "language": "python",
     "metadata": {},
     "outputs": [],
     "prompt_number": 189
    },
    {
     "cell_type": "code",
     "collapsed": false,
     "input": [
      "scores_lr = cross_validation.cross_val_score(lr, X_train[predictor], y_train, cv=100)\n",
      "scores_ridge = cross_validation.cross_val_score(ridge, X_train[predictor], y_train, cv=100)\n",
      "scores = pd.DataFrame(zip(scores_lr, scores_ridge), columns=['LinearRegression', 'Ridge'])"
     ],
     "language": "python",
     "metadata": {},
     "outputs": [],
     "prompt_number": 190
    },
    {
     "cell_type": "code",
     "collapsed": false,
     "input": [
      "seaborn.boxplot(scores)"
     ],
     "language": "python",
     "metadata": {},
     "outputs": [
      {
       "metadata": {},
       "output_type": "pyout",
       "prompt_number": 191,
       "text": [
        "<matplotlib.axes.AxesSubplot at 0x110569710>"
       ]
      },
      {
       "metadata": {},
       "output_type": "display_data",
       "png": "[encoded data removed]",
       "text": [
        "<matplotlib.figure.Figure at 0x1102b93d0>"
       ]
      }
     ],
     "prompt_number": 191
    },
    {
     "cell_type": "markdown",
     "metadata": {},
     "source": [
      "### GridSaerch for HyperParameter Tuning"
     ]
    },
    {
     "cell_type": "code",
     "collapsed": false,
     "input": [
      "from sklearn.grid_search import GridSearchCV\n",
      "alphas = np.logspace(-4, 4, 40)\n",
      "ridge = Ridge()\n",
      "parameters = {\"alpha\":alphas}\n",
      "estimator = GridSearchCV(ridge, parameters)\n",
      "estimator.fit(X_train[predictor], y_train)"
     ],
     "language": "python",
     "metadata": {},
     "outputs": [
      {
       "metadata": {},
       "output_type": "pyout",
       "prompt_number": 186,
       "text": [
        "GridSearchCV(cv=None,\n",
        "       estimator=Ridge(alpha=1.0, copy_X=True, fit_intercept=True, max_iter=None,\n",
        "   normalize=False, solver='auto', tol=0.001),\n",
        "       fit_params={}, iid=True, loss_func=None, n_jobs=1,\n",
        "       param_grid={'alpha': array([  1.00000e-04,   1.60372e-04,   2.57191e-04,   4.12463e-04,\n",
        "         6.61474e-04,   1.06082e-03,   1.70125e-03,   2.72833e-03,\n",
        "         4.37548e-03,   7.01704e-03,   1.12534e-02,   1.80472e-02,\n",
        "         2.89427e-02,   4.64159e-02,   7.44380e-02,   1.19378e-01,\n",
        "         1....,   9.42668e+02,   1.51178e+03,\n",
        "         2.42446e+03,   3.88816e+03,   6.23551e+03,   1.00000e+04])},\n",
        "       pre_dispatch='2*n_jobs', refit=True, score_func=None, scoring=None,\n",
        "       verbose=0)"
       ]
      }
     ],
     "prompt_number": 186
    },
    {
     "cell_type": "code",
     "collapsed": false,
     "input": [
      "estimator.best_estimator_"
     ],
     "language": "python",
     "metadata": {},
     "outputs": [
      {
       "metadata": {},
       "output_type": "pyout",
       "prompt_number": 188,
       "text": [
        "Ridge(alpha=88.862381627434075, copy_X=True, fit_intercept=True,\n",
        "   max_iter=None, normalize=False, solver='auto', tol=0.001)"
       ]
      }
     ],
     "prompt_number": 188
    },
    {
     "cell_type": "markdown",
     "metadata": {},
     "source": [
      "### Pipeline\n",
      "Cacasding the opeartions:\n",
      "  a. feature selection\n",
      "  b. feature transformation\n",
      "  c. feature"
     ]
    },
    {
     "cell_type": "code",
     "collapsed": false,
     "input": [
      "from sklearn import svm\n",
      "from sklearn.datasets import samples_generator\n",
      "from sklearn.feature_selection import SelectKBest\n",
      "from sklearn.feature_selection import f_regression\n",
      "from sklearn.pipeline import Pipeline\n",
      "X, y = samples_generator.make_classification(n_informative=5, n_redundant=0, random_state=42)\n",
      "\n",
      "if __name__ == \"__main__\":\n",
      "    pipeline = Pipeline([('Imputer', Imputer(missing_values='NaN', strategy='mean', axis=1)),\n",
      "                         ('ridge_regression', Ridge())])\n",
      "\n",
      "    params = dict(ridge_regression__alpha = np.logspace(-1, 1, 10))\n",
      "\n",
      "    grid_search = GridSearchCV(pipeline, params, n_jobs=-1, verbose=1)\n",
      "    grid_search.fit(X_train[predictor], y_train)"
     ],
     "language": "python",
     "metadata": {},
     "outputs": [
      {
       "output_type": "stream",
       "stream": "stdout",
       "text": [
        "Fitting 3 folds for each of 10 candidates, totalling 30 fits\n"
       ]
      },
      {
       "ename": "ImportError",
       "evalue": "[joblib] Attempting to do parallel computingwithout protecting your import on a system that does not support forking. To use parallel-computing in a script, you must protect you main loop using \"if __name__ == '__main__'\". Please see the joblib documentation on Parallel for more information",
       "output_type": "pyerr",
       "traceback": [
        "\u001b[0;31m---------------------------------------------------------------------------\u001b[0m\n\u001b[0;31mImportError\u001b[0m                               Traceback (most recent call last)",
        "\u001b[0;32m<ipython-input-207-b67a40d84376>\u001b[0m in \u001b[0;36m<module>\u001b[0;34m()\u001b[0m\n\u001b[1;32m     12\u001b[0m \u001b[0;34m\u001b[0m\u001b[0m\n\u001b[1;32m     13\u001b[0m \u001b[0mgrid_search\u001b[0m \u001b[0;34m=\u001b[0m \u001b[0mGridSearchCV\u001b[0m\u001b[0;34m(\u001b[0m\u001b[0mpipeline\u001b[0m\u001b[0;34m,\u001b[0m \u001b[0mparams\u001b[0m\u001b[0;34m,\u001b[0m \u001b[0mn_jobs\u001b[0m\u001b[0;34m=\u001b[0m\u001b[0;34m-\u001b[0m\u001b[0;36m1\u001b[0m\u001b[0;34m,\u001b[0m \u001b[0mverbose\u001b[0m\u001b[0;34m=\u001b[0m\u001b[0;36m1\u001b[0m\u001b[0;34m)\u001b[0m\u001b[0;34m\u001b[0m\u001b[0m\n\u001b[0;32m---> 14\u001b[0;31m \u001b[0mgrid_search\u001b[0m\u001b[0;34m.\u001b[0m\u001b[0mfit\u001b[0m\u001b[0;34m(\u001b[0m\u001b[0mX_train\u001b[0m\u001b[0;34m[\u001b[0m\u001b[0mpredictor\u001b[0m\u001b[0;34m]\u001b[0m\u001b[0;34m,\u001b[0m \u001b[0my_train\u001b[0m\u001b[0;34m)\u001b[0m\u001b[0;34m\u001b[0m\u001b[0m\n\u001b[0m",
        "\u001b[0;32m/Applications/anaconda/lib/python2.7/site-packages/sklearn/grid_search.pyc\u001b[0m in \u001b[0;36mfit\u001b[0;34m(self, X, y, **params)\u001b[0m\n\u001b[1;32m    705\u001b[0m                           \u001b[0;34m\" The params argument will be removed in 0.15.\"\u001b[0m\u001b[0;34m,\u001b[0m\u001b[0;34m\u001b[0m\u001b[0m\n\u001b[1;32m    706\u001b[0m                           DeprecationWarning)\n\u001b[0;32m--> 707\u001b[0;31m         \u001b[0;32mreturn\u001b[0m \u001b[0mself\u001b[0m\u001b[0;34m.\u001b[0m\u001b[0m_fit\u001b[0m\u001b[0;34m(\u001b[0m\u001b[0mX\u001b[0m\u001b[0;34m,\u001b[0m \u001b[0my\u001b[0m\u001b[0;34m,\u001b[0m \u001b[0mParameterGrid\u001b[0m\u001b[0;34m(\u001b[0m\u001b[0mself\u001b[0m\u001b[0;34m.\u001b[0m\u001b[0mparam_grid\u001b[0m\u001b[0;34m)\u001b[0m\u001b[0;34m)\u001b[0m\u001b[0;34m\u001b[0m\u001b[0m\n\u001b[0m\u001b[1;32m    708\u001b[0m \u001b[0;34m\u001b[0m\u001b[0m\n\u001b[1;32m    709\u001b[0m \u001b[0;34m\u001b[0m\u001b[0m\n",
        "\u001b[0;32m/Applications/anaconda/lib/python2.7/site-packages/sklearn/grid_search.pyc\u001b[0m in \u001b[0;36m_fit\u001b[0;34m(self, X, y, parameter_iterable)\u001b[0m\n\u001b[1;32m    491\u001b[0m                     \u001b[0mX\u001b[0m\u001b[0;34m,\u001b[0m \u001b[0my\u001b[0m\u001b[0;34m,\u001b[0m \u001b[0mbase_estimator\u001b[0m\u001b[0;34m,\u001b[0m \u001b[0mparameters\u001b[0m\u001b[0;34m,\u001b[0m \u001b[0mtrain\u001b[0m\u001b[0;34m,\u001b[0m \u001b[0mtest\u001b[0m\u001b[0;34m,\u001b[0m\u001b[0;34m\u001b[0m\u001b[0m\n\u001b[1;32m    492\u001b[0m                     self.scorer_, self.verbose, **self.fit_params)\n\u001b[0;32m--> 493\u001b[0;31m                 \u001b[0;32mfor\u001b[0m \u001b[0mparameters\u001b[0m \u001b[0;32min\u001b[0m \u001b[0mparameter_iterable\u001b[0m\u001b[0;34m\u001b[0m\u001b[0m\n\u001b[0m\u001b[1;32m    494\u001b[0m                 for train, test in cv)\n\u001b[1;32m    495\u001b[0m \u001b[0;34m\u001b[0m\u001b[0m\n",
        "\u001b[0;32m/Applications/anaconda/lib/python2.7/site-packages/sklearn/externals/joblib/parallel.pyc\u001b[0m in \u001b[0;36m__call__\u001b[0;34m(self, iterable)\u001b[0m\n\u001b[1;32m    478\u001b[0m                 \u001b[0malready_forked\u001b[0m \u001b[0;34m=\u001b[0m \u001b[0mint\u001b[0m\u001b[0;34m(\u001b[0m\u001b[0mos\u001b[0m\u001b[0;34m.\u001b[0m\u001b[0menviron\u001b[0m\u001b[0;34m.\u001b[0m\u001b[0mget\u001b[0m\u001b[0;34m(\u001b[0m\u001b[0;34m'__JOBLIB_SPAWNED_PARALLEL__'\u001b[0m\u001b[0;34m,\u001b[0m \u001b[0;36m0\u001b[0m\u001b[0;34m)\u001b[0m\u001b[0;34m)\u001b[0m\u001b[0;34m\u001b[0m\u001b[0m\n\u001b[1;32m    479\u001b[0m                 \u001b[0;32mif\u001b[0m \u001b[0malready_forked\u001b[0m\u001b[0;34m:\u001b[0m\u001b[0;34m\u001b[0m\u001b[0m\n\u001b[0;32m--> 480\u001b[0;31m                     raise ImportError('[joblib] Attempting to do parallel computing'\n\u001b[0m\u001b[1;32m    481\u001b[0m                             \u001b[0;34m'without protecting your import on a system that does '\u001b[0m\u001b[0;34m\u001b[0m\u001b[0m\n\u001b[1;32m    482\u001b[0m                             \u001b[0;34m'not support forking. To use parallel-computing in a '\u001b[0m\u001b[0;34m\u001b[0m\u001b[0m\n",
        "\u001b[0;31mImportError\u001b[0m: [joblib] Attempting to do parallel computingwithout protecting your import on a system that does not support forking. To use parallel-computing in a script, you must protect you main loop using \"if __name__ == '__main__'\". Please see the joblib documentation on Parallel for more information"
       ]
      }
     ],
     "prompt_number": 207
    },
    {
     "cell_type": "code",
     "collapsed": false,
     "input": [
      "### Data Visualization\n",
      "a. Y vs X\n",
      "  a-1. Categorical X vs. Y: Conditional Histogram\n",
      "  a-2. Contineous X vs. Y: Scatterplot"
     ],
     "language": "python",
     "metadata": {},
     "outputs": [],
     "prompt_number": 205
    },
    {
     "cell_type": "code",
     "collapsed": false,
     "input": [
      "def condDistr(y, x, ax = np.nan):\n",
      "    \"\"\"\n",
      "    Plot conditional histogram for each levels of x\n",
      "    \n",
      "    Parameters\n",
      "    ----------\n",
      "    x: array-like, (n_samples, )\n",
      "    y: array-like, (n_samples, )\n",
      "    ax: subplot return\n",
      "    \n",
      "    Returns\n",
      "    -------\n",
      "    res: plot object\n",
      "    \"\"\"\n",
      "    y_scale = y.max() - y.min()\n",
      "    margin_ratio = .05\n",
      "    y_range = (y.min() - y_scale * margin_ratio, y.max() + y_scale * margin_ratio)\n",
      "    if ax is np.nan:\n",
      "        f, ax = plt.subplots(1, 1, sharex=True, figsize=(8, 6))\n",
      "    for i,x_val in enumerate(set(x)):\n",
      "        data = y[x == x_val]\n",
      "        seaborn.kdeplot(data, shade=True, ax=ax, label=\"x=\"+str(i));\n",
      "\n",
      "def condBoxplot(y, x, ax = np.nan):\n",
      "    \"\"\"\n",
      "    Depict boxplot diescribing distribution y for each levels of x\n",
      "    \n",
      "    Parameters\n",
      "    ----------\n",
      "    y: array-like\n",
      "    x: array-like\n",
      "    ax: subplot return\n",
      "    \n",
      "    Returns\n",
      "    -------\n",
      "    null\n",
      "    \n",
      "    Exports\n",
      "    -------\n",
      "    plot\n",
      "    \"\"\"\n",
      "    y = y\n",
      "    g = x\n",
      "    if ax is np.nan:\n",
      "        f, ax = plt.subplots(1, 1, sharex=True, figsize=(8, 6))\n",
      "    for i, g_val in enumerate(set(g)):\n",
      "        y[g == g_val] += i // 2\n",
      "    df = pd.DataFrame(dict(score=y, group=g))\n",
      "    seaborn.boxplot(df.score, df.group, ax = ax);\n",
      "    \n"
     ],
     "language": "python",
     "metadata": {},
     "outputs": [],
     "prompt_number": 308
    },
    {
     "cell_type": "code",
     "collapsed": false,
     "input": [
      "X_train.head()"
     ],
     "language": "python",
     "metadata": {},
     "outputs": [
      {
       "html": [
        "<div style=\"max-height:1000px;max-width:1500px;overflow:auto;\">\n",
        "<table border=\"1\" class=\"dataframe\">\n",
        "  <thead>\n",
        "    <tr style=\"text-align: right;\">\n",
        "      <th></th>\n",
        "      <th>transdate</th>\n",
        "      <th>transdate_previous</th>\n",
        "      <th>transvalue_previous</th>\n",
        "      <th>bathroomcnt</th>\n",
        "      <th>bedroomcnt</th>\n",
        "      <th>builtyear</th>\n",
        "      <th>finishedsquarefeet</th>\n",
        "      <th>lotsizesquarefeet</th>\n",
        "      <th>storycnt</th>\n",
        "      <th>latitude</th>\n",
        "      <th>longitude</th>\n",
        "      <th>usecode</th>\n",
        "      <th>censustract</th>\n",
        "      <th>viewtypeid</th>\n",
        "    </tr>\n",
        "  </thead>\n",
        "  <tbody>\n",
        "    <tr>\n",
        "      <th>0</th>\n",
        "      <td>  9/12/2005</td>\n",
        "      <td> 7/18/1994</td>\n",
        "      <td> 126500</td>\n",
        "      <td>    1</td>\n",
        "      <td> 3</td>\n",
        "      <td> 1966</td>\n",
        "      <td> 1330</td>\n",
        "      <td> 15682</td>\n",
        "      <td> 1</td>\n",
        "      <td> 47333266</td>\n",
        "      <td> -122045536</td>\n",
        "      <td> 9</td>\n",
        "      <td> 31602</td>\n",
        "      <td> NaN</td>\n",
        "    </tr>\n",
        "    <tr>\n",
        "      <th>1</th>\n",
        "      <td> 10/12/2005</td>\n",
        "      <td> 12/6/2002</td>\n",
        "      <td> 124500</td>\n",
        "      <td>    1</td>\n",
        "      <td> 2</td>\n",
        "      <td> 1991</td>\n",
        "      <td> 1110</td>\n",
        "      <td>  7629</td>\n",
        "      <td> 2</td>\n",
        "      <td> 47494698</td>\n",
        "      <td> -122263265</td>\n",
        "      <td> 9</td>\n",
        "      <td> 26100</td>\n",
        "      <td>   8</td>\n",
        "    </tr>\n",
        "    <tr>\n",
        "      <th>2</th>\n",
        "      <td> 10/31/2005</td>\n",
        "      <td> 3/21/1997</td>\n",
        "      <td> 173000</td>\n",
        "      <td>    1</td>\n",
        "      <td> 2</td>\n",
        "      <td> 1941</td>\n",
        "      <td> 1120</td>\n",
        "      <td>  4500</td>\n",
        "      <td> 1</td>\n",
        "      <td> 47664794</td>\n",
        "      <td> -122360087</td>\n",
        "      <td> 9</td>\n",
        "      <td>  4800</td>\n",
        "      <td>   8</td>\n",
        "    </tr>\n",
        "    <tr>\n",
        "      <th>3</th>\n",
        "      <td>  11/4/2005</td>\n",
        "      <td> 5/27/1997</td>\n",
        "      <td> 143700</td>\n",
        "      <td> 2.25</td>\n",
        "      <td> 3</td>\n",
        "      <td> 1985</td>\n",
        "      <td> 1670</td>\n",
        "      <td>  7534</td>\n",
        "      <td> 2</td>\n",
        "      <td> 47362534</td>\n",
        "      <td> -122078167</td>\n",
        "      <td> 9</td>\n",
        "      <td> 32005</td>\n",
        "      <td> NaN</td>\n",
        "    </tr>\n",
        "    <tr>\n",
        "      <th>4</th>\n",
        "      <td> 10/19/2005</td>\n",
        "      <td> 9/15/2004</td>\n",
        "      <td> 360000</td>\n",
        "      <td>  2.5</td>\n",
        "      <td> 3</td>\n",
        "      <td> 1990</td>\n",
        "      <td> 2210</td>\n",
        "      <td>  5723</td>\n",
        "      <td> 2</td>\n",
        "      <td> 47749351</td>\n",
        "      <td> -122182587</td>\n",
        "      <td> 9</td>\n",
        "      <td> 21905</td>\n",
        "      <td> NaN</td>\n",
        "    </tr>\n",
        "  </tbody>\n",
        "</table>\n",
        "</div>"
       ],
       "metadata": {},
       "output_type": "pyout",
       "prompt_number": 209,
       "text": [
        "    transdate transdate_previous transvalue_previous bathroomcnt bedroomcnt  \\\n",
        "0   9/12/2005          7/18/1994              126500           1          3   \n",
        "1  10/12/2005          12/6/2002              124500           1          2   \n",
        "2  10/31/2005          3/21/1997              173000           1          2   \n",
        "3   11/4/2005          5/27/1997              143700        2.25          3   \n",
        "4  10/19/2005          9/15/2004              360000         2.5          3   \n",
        "\n",
        "  builtyear finishedsquarefeet lotsizesquarefeet storycnt  latitude  \\\n",
        "0      1966               1330             15682        1  47333266   \n",
        "1      1991               1110              7629        2  47494698   \n",
        "2      1941               1120              4500        1  47664794   \n",
        "3      1985               1670              7534        2  47362534   \n",
        "4      1990               2210              5723        2  47749351   \n",
        "\n",
        "    longitude usecode censustract viewtypeid  \n",
        "0  -122045536       9       31602        NaN  \n",
        "1  -122263265       9       26100          8  \n",
        "2  -122360087       9        4800          8  \n",
        "3  -122078167       9       32005        NaN  \n",
        "4  -122182587       9       21905        NaN  "
       ]
      }
     ],
     "prompt_number": 209
    },
    {
     "cell_type": "code",
     "collapsed": false,
     "input": [
      "np.random.seed(123)\n",
      "x1 = np.random.randint(0, 3, 100)\n",
      "x2 = np.random.normal(1, 1, 100)\n",
      "y = 3 + .4 * x1 + .5 * x2\n",
      "df = pd.DataFrame(zip(y, x1, x2), columns = ['y', 'x1', 'x2'])"
     ],
     "language": "python",
     "metadata": {},
     "outputs": [],
     "prompt_number": 223
    },
    {
     "cell_type": "code",
     "collapsed": false,
     "input": [
      "fig, ax = plt.subplots(1, 3, figsize=(16, 8), sharex=True)\n",
      "condBoxplot(y_test, X_test.bedroomcnt, ax=ax[0])\n",
      "condBoxplot(y_test, X_test.storycnt, ax=ax[1])\n",
      "condDistr(10 ** y_test, X_test.storycnt, ax=ax[2])"
     ],
     "language": "python",
     "metadata": {},
     "outputs": [
      {
       "metadata": {},
       "output_type": "display_data",
       "png": "[encoded data removed]",
       "text": [
        "<matplotlib.figure.Figure at 0x1174cca50>"
       ]
      }
     ],
     "prompt_number": 314
    },
    {
     "cell_type": "code",
     "collapsed": false,
     "input": [
      "\n",
      "data4plt = pd.DataFrame(zip(y_test, X_test), columns = ['log10_trans_val', [i for i in X_test.columns]])\n",
      "#seaborn.corrplot(data4plt, annot=False, diag_names = True, sig_tail=\"upper\")\n",
      "data4plt.head(5)"
     ],
     "language": "python",
     "metadata": {},
     "outputs": [
      {
       "html": [
        "<div style=\"max-height:1000px;max-width:1500px;overflow:auto;\">\n",
        "<table border=\"1\" class=\"dataframe\">\n",
        "  <thead>\n",
        "    <tr style=\"text-align: right;\">\n",
        "      <th></th>\n",
        "      <th>log10_trans_val</th>\n",
        "      <th>(transdate, transdate_previous, transvalue_previous, bathroomcnt, bedroomcnt, builtyear, finishedsquarefeet, lotsizesquarefeet, storycnt, latitude, longitude, usecode, censustract, viewtypeid)</th>\n",
        "    </tr>\n",
        "  </thead>\n",
        "  <tbody>\n",
        "    <tr>\n",
        "      <th>0</th>\n",
        "      <td>  0.738667</td>\n",
        "      <td>           transdate</td>\n",
        "    </tr>\n",
        "    <tr>\n",
        "      <th>1</th>\n",
        "      <td> 14.738552</td>\n",
        "      <td>  transdate_previous</td>\n",
        "    </tr>\n",
        "    <tr>\n",
        "      <th>2</th>\n",
        "      <td> 14.769083</td>\n",
        "      <td> transvalue_previous</td>\n",
        "    </tr>\n",
        "    <tr>\n",
        "      <th>3</th>\n",
        "      <td> 14.751163</td>\n",
        "      <td>         bathroomcnt</td>\n",
        "    </tr>\n",
        "    <tr>\n",
        "      <th>4</th>\n",
        "      <td>  0.747059</td>\n",
        "      <td>          bedroomcnt</td>\n",
        "    </tr>\n",
        "  </tbody>\n",
        "</table>\n",
        "</div>"
       ],
       "metadata": {},
       "output_type": "pyout",
       "prompt_number": 322,
       "text": [
        "   log10_trans_val  \\\n",
        "0         0.738667   \n",
        "1        14.738552   \n",
        "2        14.769083   \n",
        "3        14.751163   \n",
        "4         0.747059   \n",
        "\n",
        "  (transdate, transdate_previous, transvalue_previous, bathroomcnt, bedroomcnt, builtyear, finishedsquarefeet, lotsizesquarefeet, storycnt, latitude, longitude, usecode, censustract, viewtypeid)  \n",
        "0                                          transdate                                                                                                                                                \n",
        "1                                 transdate_previous                                                                                                                                                \n",
        "2                                transvalue_previous                                                                                                                                                \n",
        "3                                        bathroomcnt                                                                                                                                                \n",
        "4                                         bedroomcnt                                                                                                                                                "
       ]
      }
     ],
     "prompt_number": 322
    },
    {
     "cell_type": "code",
     "collapsed": false,
     "input": [
      "X_test.columns"
     ],
     "language": "python",
     "metadata": {},
     "outputs": [
      {
       "metadata": {},
       "output_type": "pyout",
       "prompt_number": 325,
       "text": [
        "Index([u'transdate', u'transdate_previous', u'transvalue_previous', u'bathroomcnt', u'bedroomcnt', u'builtyear', u'finishedsquarefeet', u'lotsizesquarefeet', u'storycnt', u'latitude', u'longitude', u'usecode', u'censustract', u'viewtypeid'], dtype='object')"
       ]
      }
     ],
     "prompt_number": 325
    },
    {
     "cell_type": "code",
     "collapsed": false,
     "input": [
      "x_data = X_test\n",
      "x_data['transdate_prev_ind'] = x_data.transdate_previous.apply(lambda x: transDatePrev_Trnasform(x))\n",
      "x"
     ],
     "language": "python",
     "metadata": {},
     "outputs": [],
     "prompt_number": 332
    },
    {
     "cell_type": "code",
     "collapsed": false,
     "input": [
      "def transDatePrev_Trnasform(x):\n",
      "    \"\"\"\n",
      "    Transform trandate_previous\n",
      "    \"\"\"\n",
      "    res = 1 if x is not np.nan else 0\n",
      "    return res\n",
      "\n",
      "def geoLoc_Transform(x):\n",
      "    \"\"\"\n",
      "    Tranform Geo-location \n",
      "    \"\"\"\n",
      "    res = float(x) / 1000000\n",
      "    return res\n",
      "\n",
      "def transVal_Transform(x, trans_year, target_year):\n",
      "    \"\"\"\n",
      "    Calculate the present/future value accounting for Inflation\n",
      "    \"\"\"\n",
      "    pass\n",
      "\n",
      "def viewtype_Transform(x, classes=np.nan, prefix=\"var_\"):\n",
      "    \"\"\"\n",
      "    Encode viewtypeid with a set of binary variables\n",
      "    \"\"\"\n",
      "    from sklearn.preprocessing import label_binarize\n",
      "    x_coded = []\n",
      "    for i_val in x:\n",
      "        if i_val is not np.nan:\n",
      "            x_coded.append(i_val)\n",
      "        else:\n",
      "            x_coded.append(0)\n",
      "    if classes is np.nan:\n",
      "        res = label_binarize(x_coded, classes=set(x_coded))\n",
      "    else:\n",
      "        res = label_binarize(x_coded, classes=classes)\n",
      "        \n",
      "    var_names = [prefix + str(i) in range(len(set(x_coded)))]\n",
      "    #res = pd.DataFrame(res, columns=var_names)\n",
      "    return res\n",
      "    "
     ],
     "language": "python",
     "metadata": {},
     "outputs": [],
     "prompt_number": 378
    },
    {
     "cell_type": "code",
     "collapsed": false,
     "input": [
      "X_test_v2 = X_test.append(viewtype_Transform(X_test.viewtypeid))"
     ],
     "language": "python",
     "metadata": {},
     "outputs": [],
     "prompt_number": 368
    },
    {
     "cell_type": "code",
     "collapsed": false,
     "input": [
      "#pd.DataFrame(viewtype_Transform(X_test.viewtypeid)).head()\n",
      "viewtype_Transform(X_test.viewtypeid).shape"
     ],
     "language": "python",
     "metadata": {},
     "outputs": [
      {
       "metadata": {},
       "output_type": "pyout",
       "prompt_number": 380,
       "text": [
        "(256, 204)"
       ]
      }
     ],
     "prompt_number": 380
    },
    {
     "cell_type": "code",
     "collapsed": false,
     "input": [
      "label_binarize(X_test.viewtypeid)"
     ],
     "language": "python",
     "metadata": {},
     "outputs": [
      {
       "ename": "TypeError",
       "evalue": "label_binarize() takes at least 2 arguments (1 given)",
       "output_type": "pyerr",
       "traceback": [
        "\u001b[0;31m---------------------------------------------------------------------------\u001b[0m\n\u001b[0;31mTypeError\u001b[0m                                 Traceback (most recent call last)",
        "\u001b[0;32m<ipython-input-381-e73d718d7c00>\u001b[0m in \u001b[0;36m<module>\u001b[0;34m()\u001b[0m\n\u001b[0;32m----> 1\u001b[0;31m \u001b[0mlabel_binarize\u001b[0m\u001b[0;34m(\u001b[0m\u001b[0mX_test\u001b[0m\u001b[0;34m.\u001b[0m\u001b[0mviewtypeid\u001b[0m\u001b[0;34m)\u001b[0m\u001b[0;34m\u001b[0m\u001b[0m\n\u001b[0m",
        "\u001b[0;31mTypeError\u001b[0m: label_binarize() takes at least 2 arguments (1 given)"
       ]
      }
     ],
     "prompt_number": 381
    },
    {
     "cell_type": "code",
     "collapsed": false,
     "input": [
      "label_binarize(X_test.viewtypeid, len(set(X_test.viewtypeid)))"
     ],
     "language": "python",
     "metadata": {},
     "outputs": [
      {
       "ename": "ValueError",
       "evalue": "Expected array-like (array or non-string sequence), got 0     0\n1     2\n2     0\n3     0\n4     0\n5     0\n6     0\n7     0\n8     0\n9     0\n10    8\n11    0\n12    0\n13    0\n14    0\n...\n241    0\n242    0\n243    0\n244    0\n245    0\n246    0\n247    0\n248    0\n249    2\n250    3\n251    0\n252    0\n253    0\n254    0\n255    0\nName: viewtypeid, Length: 256, dtype: float64",
       "output_type": "pyerr",
       "traceback": [
        "\u001b[0;31m---------------------------------------------------------------------------\u001b[0m\n\u001b[0;31mValueError\u001b[0m                                Traceback (most recent call last)",
        "\u001b[0;32m<ipython-input-386-e1a5c790967c>\u001b[0m in \u001b[0;36m<module>\u001b[0;34m()\u001b[0m\n\u001b[0;32m----> 1\u001b[0;31m \u001b[0mlabel_binarize\u001b[0m\u001b[0;34m(\u001b[0m\u001b[0mX_test\u001b[0m\u001b[0;34m.\u001b[0m\u001b[0mviewtypeid\u001b[0m\u001b[0;34m,\u001b[0m \u001b[0mlen\u001b[0m\u001b[0;34m(\u001b[0m\u001b[0mset\u001b[0m\u001b[0;34m(\u001b[0m\u001b[0mX_test\u001b[0m\u001b[0;34m.\u001b[0m\u001b[0mviewtypeid\u001b[0m\u001b[0;34m)\u001b[0m\u001b[0;34m)\u001b[0m\u001b[0;34m)\u001b[0m\u001b[0;34m\u001b[0m\u001b[0m\n\u001b[0m",
        "\u001b[0;32m/Applications/anaconda/lib/python2.7/site-packages/sklearn/preprocessing/label.pyc\u001b[0m in \u001b[0;36mlabel_binarize\u001b[0;34m(y, classes, multilabel, neg_label, pos_label)\u001b[0m\n\u001b[1;32m    385\u001b[0m         \u001b[0mLabelBinarizer\u001b[0m \u001b[0;32mwith\u001b[0m \u001b[0mfixed\u001b[0m \u001b[0mclasses\u001b[0m\u001b[0;34m.\u001b[0m\u001b[0;34m\u001b[0m\u001b[0m\n\u001b[1;32m    386\u001b[0m     \"\"\"\n\u001b[0;32m--> 387\u001b[0;31m     \u001b[0my_type\u001b[0m \u001b[0;34m=\u001b[0m \u001b[0mtype_of_target\u001b[0m\u001b[0;34m(\u001b[0m\u001b[0my\u001b[0m\u001b[0;34m)\u001b[0m\u001b[0;34m\u001b[0m\u001b[0m\n\u001b[0m\u001b[1;32m    388\u001b[0m \u001b[0;34m\u001b[0m\u001b[0m\n\u001b[1;32m    389\u001b[0m     \u001b[0;32mif\u001b[0m \u001b[0mmultilabel\u001b[0m \u001b[0;32mor\u001b[0m \u001b[0mlen\u001b[0m\u001b[0;34m(\u001b[0m\u001b[0mclasses\u001b[0m\u001b[0;34m)\u001b[0m \u001b[0;34m>\u001b[0m \u001b[0;36m2\u001b[0m\u001b[0;34m:\u001b[0m\u001b[0;34m\u001b[0m\u001b[0m\n",
        "\u001b[0;32m/Applications/anaconda/lib/python2.7/site-packages/sklearn/utils/multiclass.pyc\u001b[0m in \u001b[0;36mtype_of_target\u001b[0;34m(y)\u001b[0m\n\u001b[1;32m    279\u001b[0m     \u001b[0;32mif\u001b[0m \u001b[0;32mnot\u001b[0m \u001b[0mvalid\u001b[0m\u001b[0;34m:\u001b[0m\u001b[0;34m\u001b[0m\u001b[0m\n\u001b[1;32m    280\u001b[0m         raise ValueError('Expected array-like (array or non-string sequence), '\n\u001b[0;32m--> 281\u001b[0;31m                          'got %r' % y)\n\u001b[0m\u001b[1;32m    282\u001b[0m \u001b[0;34m\u001b[0m\u001b[0m\n\u001b[1;32m    283\u001b[0m     \u001b[0;32mif\u001b[0m \u001b[0mis_sequence_of_sequences\u001b[0m\u001b[0;34m(\u001b[0m\u001b[0my\u001b[0m\u001b[0;34m)\u001b[0m\u001b[0;34m:\u001b[0m\u001b[0;34m\u001b[0m\u001b[0m\n",
        "\u001b[0;31mValueError\u001b[0m: Expected array-like (array or non-string sequence), got 0     0\n1     2\n2     0\n3     0\n4     0\n5     0\n6     0\n7     0\n8     0\n9     0\n10    8\n11    0\n12    0\n13    0\n14    0\n...\n241    0\n242    0\n243    0\n244    0\n245    0\n246    0\n247    0\n248    0\n249    2\n250    3\n251    0\n252    0\n253    0\n254    0\n255    0\nName: viewtypeid, Length: 256, dtype: float64"
       ]
      }
     ],
     "prompt_number": 386
    },
    {
     "cell_type": "code",
     "collapsed": false,
     "input": [
      "X_test.viewtypeid.fillna(0, inplace=True)"
     ],
     "language": "python",
     "metadata": {},
     "outputs": [],
     "prompt_number": 383
    },
    {
     "cell_type": "code",
     "collapsed": false,
     "input": [
      "from sklearn import preprocessing"
     ],
     "language": "python",
     "metadata": {},
     "outputs": [],
     "prompt_number": 390
    },
    {
     "cell_type": "code",
     "collapsed": false,
     "input": [],
     "language": "python",
     "metadata": {},
     "outputs": []
    }
   ],
   "metadata": {}
  }
 ]
}