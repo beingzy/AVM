{
 "metadata": {
  "name": "",
  "signature": "sha256:60071fde40af01f6ab34529ebacca72c96340542ecd736db2c33173dcd71d1c7"
 },
 "nbformat": 3,
 "nbformat_minor": 0,
 "worksheets": [
  {
   "cells": [
    {
     "cell_type": "code",
     "collapsed": false,
     "input": [
      "import pandas as pd\n",
      "import numpy as np\n",
      "\n",
      "import matplotlib as mpt\n",
      "import matplotlib.pyplot as plt\n",
      "import seaborn\n",
      "import folium\n",
      "import vincent\n",
      "\n",
      "import datetime\n",
      "\n",
      "%matplotlib inline"
     ],
     "language": "python",
     "metadata": {},
     "outputs": [],
     "prompt_number": 284
    },
    {
     "cell_type": "code",
     "collapsed": false,
     "input": [
      "DATA_PATH = \"/Users/beingzy/Documents/Projects/zillow/data/\""
     ],
     "language": "python",
     "metadata": {},
     "outputs": [],
     "prompt_number": 3
    },
    {
     "cell_type": "code",
     "collapsed": false,
     "input": [
      "train_df = pd.read_csv(DATA_PATH + 'train_processed.csv', header = 0)\n",
      "new_df = pd.read_csv(DATA_PATH + 'valid_processed.csv', header = 0)\n",
      "## Collect propertyid with mutliple sales record\n",
      "dup_train_ids = train_df.propertyid[train_df.duplicated(['propertyid'])].unique()\n",
      "dup_new_ids = new_df.propertyid[new_df.duplicated(['propertyid'])].unique()\n",
      "\n",
      "## train_df -------\n",
      "train_df['transdate'] = pd.to_datetime(train_df['transdate'], \"%m/%d/%Y\")\n",
      "train_df['transdate_previous'] = pd.to_datetime(train_df['transdate_previous'], \"%m/%d/%Y\")\n",
      "train_df['builtyear'] = pd.to_datetime(train_df['builtyear'], \"%Y\")\n",
      "\n",
      "## new_df -------\n",
      "new_df['transdate'] = pd.to_datetime(new_df['transdate'], \"%m/%d/%Y\")\n",
      "new_df['transdate_previous'] = pd.to_datetime(new_df['transdate_previous'], \"%m/%d/%Y\")\n",
      "new_df['builtyear'] = pd.to_datetime(new_df['builtyear'], \"%Y\")"
     ],
     "language": "python",
     "metadata": {},
     "outputs": [],
     "prompt_number": 489
    },
    {
     "cell_type": "code",
     "collapsed": false,
     "input": [
      "#exam_features = ['propertyid', 'transdate', 'transvalue', 'transdate_previous', 'transvalue_previous']\n",
      "#dup_train = train_df[train_df['propertyid'].isin(dup_train_ids)]\n",
      "#dup_train[exam_features].sort(['propertyid', 'transdate_previous'], ascending = False).head(5)\n",
      "train_df.head(3)"
     ],
     "language": "python",
     "metadata": {},
     "outputs": [
      {
       "html": [
        "<div style=\"max-height:1000px;max-width:1500px;overflow:auto;\">\n",
        "<table border=\"1\" class=\"dataframe\">\n",
        "  <thead>\n",
        "    <tr style=\"text-align: right;\">\n",
        "      <th></th>\n",
        "      <th>zip</th>\n",
        "      <th>propertyid</th>\n",
        "      <th>transdate</th>\n",
        "      <th>transvalue</th>\n",
        "      <th>transdate_previous</th>\n",
        "      <th>transvalue_previous</th>\n",
        "      <th>bathroomcnt</th>\n",
        "      <th>bedroomcnt</th>\n",
        "      <th>builtyear</th>\n",
        "      <th>finishedsquarefeet</th>\n",
        "      <th>...</th>\n",
        "      <th>res_ratio</th>\n",
        "      <th>bus_ratio</th>\n",
        "      <th>oth_ratio</th>\n",
        "      <th>tot_ratio</th>\n",
        "      <th>median_list_price</th>\n",
        "      <th>median_value_per_sqft</th>\n",
        "      <th>emp</th>\n",
        "      <th>qp1</th>\n",
        "      <th>ap</th>\n",
        "      <th>est</th>\n",
        "    </tr>\n",
        "  </thead>\n",
        "  <tbody>\n",
        "    <tr>\n",
        "      <th>0</th>\n",
        "      <td> 98001</td>\n",
        "      <td> 48794725</td>\n",
        "      <td>2005-11-22</td>\n",
        "      <td> 258000</td>\n",
        "      <td>1999-01-21</td>\n",
        "      <td> 135665</td>\n",
        "      <td> 1.00</td>\n",
        "      <td> 3</td>\n",
        "      <td>1970-01-01 00:00:00.000001992</td>\n",
        "      <td> 1300</td>\n",
        "      <td>...</td>\n",
        "      <td> 0.119271</td>\n",
        "      <td> 0.036916</td>\n",
        "      <td> 0.056811</td>\n",
        "      <td> 0.108754</td>\n",
        "      <td> 299000</td>\n",
        "      <td> 147</td>\n",
        "      <td> 20764</td>\n",
        "      <td> 231342</td>\n",
        "      <td> 945461</td>\n",
        "      <td> 1000</td>\n",
        "    </tr>\n",
        "    <tr>\n",
        "      <th>1</th>\n",
        "      <td> 98001</td>\n",
        "      <td> 48862721</td>\n",
        "      <td>2005-12-09</td>\n",
        "      <td> 294950</td>\n",
        "      <td>1996-07-02</td>\n",
        "      <td> 154950</td>\n",
        "      <td> 2.25</td>\n",
        "      <td> 4</td>\n",
        "      <td>1970-01-01 00:00:00.000001983</td>\n",
        "      <td> 2010</td>\n",
        "      <td>...</td>\n",
        "      <td> 0.140278</td>\n",
        "      <td> 0.137316</td>\n",
        "      <td> 0.142857</td>\n",
        "      <td> 0.140068</td>\n",
        "      <td> 299000</td>\n",
        "      <td> 147</td>\n",
        "      <td> 20764</td>\n",
        "      <td> 231342</td>\n",
        "      <td> 945461</td>\n",
        "      <td> 1000</td>\n",
        "    </tr>\n",
        "    <tr>\n",
        "      <th>2</th>\n",
        "      <td> 98001</td>\n",
        "      <td> 48891177</td>\n",
        "      <td>2005-09-22</td>\n",
        "      <td> 369950</td>\n",
        "      <td>1992-07-28</td>\n",
        "      <td> 150000</td>\n",
        "      <td> 1.75</td>\n",
        "      <td> 3</td>\n",
        "      <td>1970-01-01 00:00:00.000001963</td>\n",
        "      <td> 1770</td>\n",
        "      <td>...</td>\n",
        "      <td> 0.119271</td>\n",
        "      <td> 0.036916</td>\n",
        "      <td> 0.056811</td>\n",
        "      <td> 0.108754</td>\n",
        "      <td> 299000</td>\n",
        "      <td> 147</td>\n",
        "      <td> 20764</td>\n",
        "      <td> 231342</td>\n",
        "      <td> 945461</td>\n",
        "      <td> 1000</td>\n",
        "    </tr>\n",
        "  </tbody>\n",
        "</table>\n",
        "<p>3 rows \u00d7 50 columns</p>\n",
        "</div>"
       ],
       "metadata": {},
       "output_type": "pyout",
       "prompt_number": 490,
       "text": [
        "     zip  propertyid  transdate  transvalue transdate_previous  \\\n",
        "0  98001    48794725 2005-11-22      258000         1999-01-21   \n",
        "1  98001    48862721 2005-12-09      294950         1996-07-02   \n",
        "2  98001    48891177 2005-09-22      369950         1992-07-28   \n",
        "\n",
        "   transvalue_previous  bathroomcnt  bedroomcnt                     builtyear  \\\n",
        "0               135665         1.00           3 1970-01-01 00:00:00.000001992   \n",
        "1               154950         2.25           4 1970-01-01 00:00:00.000001983   \n",
        "2               150000         1.75           3 1970-01-01 00:00:00.000001963   \n",
        "\n",
        "   finishedsquarefeet         ...          res_ratio  bus_ratio  oth_ratio  \\\n",
        "0                1300         ...           0.119271   0.036916   0.056811   \n",
        "1                2010         ...           0.140278   0.137316   0.142857   \n",
        "2                1770         ...           0.119271   0.036916   0.056811   \n",
        "\n",
        "   tot_ratio  median_list_price  median_value_per_sqft    emp     qp1      ap  \\\n",
        "0   0.108754             299000                    147  20764  231342  945461   \n",
        "1   0.140068             299000                    147  20764  231342  945461   \n",
        "2   0.108754             299000                    147  20764  231342  945461   \n",
        "\n",
        "    est  \n",
        "0  1000  \n",
        "1  1000  \n",
        "2  1000  \n",
        "\n",
        "[3 rows x 50 columns]"
       ]
      }
     ],
     "prompt_number": 490
    },
    {
     "cell_type": "code",
     "collapsed": false,
     "input": [
      "train_df.columns"
     ],
     "language": "python",
     "metadata": {},
     "outputs": [
      {
       "metadata": {},
       "output_type": "pyout",
       "prompt_number": 491,
       "text": [
        "Index([u'zip', u'propertyid', u'transdate', u'transvalue', u'transdate_previous', u'transvalue_previous', u'bathroomcnt', u'bedroomcnt', u'builtyear', u'finishedsquarefeet', u'lotsizesquarefeet', u'storycnt', u'latitude', u'longitude', u'usecode', u'censustract', u'viewtypeid', u'validation_idx', u'transmonth', u'trans_spr_ind', u'trans_sum_ind', u'trans_fal_ind', u'trans_win_ind', u'trans_build_age', u'trans_prev_ind', u'trans_prev_numyear', u'trans_val_2005', u'finished_lot_ratio', u'story_single_ind', u'story_mult_ind', u'view_type0', u'view_type1', u'view_type2', u'view_type3', u'view_type4', u'view_type5', u'view_type6', u'full_censustract', u'transvalue_log', u'trans_val_2005_log', u'res_ratio', u'bus_ratio', u'oth_ratio', u'tot_ratio', u'median_list_price', u'median_value_per_sqft', u'emp', u'qp1', u'ap', u'est'], dtype='object')"
       ]
      }
     ],
     "prompt_number": 491
    },
    {
     "cell_type": "code",
     "collapsed": false,
     "input": [
      "## Organize the features \n",
      "## 1. features store same information for mutiple records of same house\n",
      "features_info = ['propertyid',                                                              # ID   \n",
      "                 \n",
      "                 'transvalue',                                                              # repsonse variable\n",
      "                 \n",
      "                 'zip', 'latitude', 'longitude', 'censustract', 'full_censustract',         # Location\n",
      "                  \n",
      "                 'bathroomcnt', 'bedroomcnt', 'finishedsquarefeet', 'lotsizesquarefeet',    # Properties\n",
      "                 'storycnt', 'viewtypeid', 'finished_lot_ratio', 'story_single_ind',        # Properties\n",
      "                 'story_mult_ind', 'view_type0', 'view_type1', 'view_type2',                # Properties \n",
      "                 'view_type3', 'view_type5','view_type6','builtyear',                       # Properties \n",
      "                 \n",
      "                 'trans_build_age','transmonth', 'trans_spr_ind', 'trans_sum_ind',          # trans-date-related\n",
      "                 'trans_fal_ind', 'trans_win_ind',                                          # trans-date-related\n",
      "                 \n",
      "                 'res_ratio', 'bus_ratio', 'oth_ratio', 'tot_ratio', 'median_list_price',   # Extenal data on neigbourhood\n",
      "                 'median_value_per_sqft', 'emp', 'qp1', 'ap', 'est'                         # Extenal data on neigbourhood\n",
      "                 ]\n",
      "## Additional 3 variables would be included for prediction: 'hist_trans_cnt', 'last_trans_val_2005', 'hist_loss_cnt'\n",
      "\n",
      "predictors = ['zip', 'latitude', 'longitude', 'censustract', 'full_censustract',         # Location\n",
      "                  \n",
      "               'bathroomcnt', 'bedroomcnt', 'finishedsquarefeet', 'lotsizesquarefeet',    # Properties\n",
      "               'storycnt', 'viewtypeid', 'finished_lot_ratio', 'story_single_ind',        # Properties\n",
      "               'story_mult_ind', 'view_type0', 'view_type1', 'view_type2',                # Properties \n",
      "               'view_type3', 'view_type5','view_type6','builtyear',                       # Properties \n",
      "                 \n",
      "               'trans_build_age','transmonth', 'trans_spr_ind', 'trans_sum_ind',          # trans-date-related\n",
      "               'trans_fal_ind', 'trans_win_ind',                                          # trans-date-related\n",
      "                 \n",
      "                'res_ratio', 'bus_ratio', 'oth_ratio', 'tot_ratio', 'median_list_price',   # Extenal data on neigbourhood\n",
      "                'median_value_per_sqft', 'emp', 'qp1', 'ap', 'est'                         # Extenal data on neigbourhood\n",
      "               ]\n",
      "\n",
      "response = [\"transvalue\"]"
     ],
     "language": "python",
     "metadata": {},
     "outputs": [],
     "prompt_number": 492
    },
    {
     "cell_type": "code",
     "collapsed": false,
     "input": [
      "#features_info[pd.Series(features_info).isin(train_df.columns)]\n",
      "#pd.Series(features_info).isin(train_df.columns)\n",
      "idx = []\n",
      "for i,val in enumerate(features_info):\n",
      "    res = val in list(train_df.columns)\n",
      "    if not res:\n",
      "        idx.append(i)\n",
      "    else:\n",
      "        pass\n",
      "pd.Series(features_info)[idx]"
     ],
     "language": "python",
     "metadata": {},
     "outputs": [
      {
       "metadata": {},
       "output_type": "pyout",
       "prompt_number": 493,
       "text": [
        "Series([], dtype: object)"
       ]
      }
     ],
     "prompt_number": 493
    },
    {
     "cell_type": "markdown",
     "metadata": {},
     "source": [
      "### Aggregate multiple historical transaction information\n",
      "Collect the information from a house's historical transactions, particularly for house having mulitple trading history in past.\n",
      "There 3 fields had been created after this study:\n",
      "\n",
      "* **hist_trans_cnt**: how many times a residential unit had been traded,\n",
      "* **last_trans_val**: the value of the last transaction\n",
      "* **hist_loss_cnt**: how many times a previous sold the unit at loss position\n",
      "\n",
      "All the information were packed into a DataFrame, **```hist_summary```**."
     ]
    },
    {
     "cell_type": "code",
     "collapsed": false,
     "input": [
      "def recent_val(df, date_col, val_col, ascending = False):\n",
      "    \"\"\"\n",
      "    Return date-sorted values in val_col for the most recent\n",
      "    value if ascending = False\n",
      "    \n",
      "    Parameter\n",
      "    ---------\n",
      "    df: array-like, data for extracting values\n",
      "    date_col: string, column name(s) for date\n",
      "    val_col: string, column name(s) for value\n",
      "    \n",
      "    Return\n",
      "    ------\n",
      "    res: vector-like, [num_rows, value, num_loss]\n",
      "    \"\"\"\n",
      "    num_row = df.shape[0]\n",
      "    if num_row > 1:\n",
      "        df  = df.sort([date_col], ascending = ascending)\n",
      "        value = df[val_col].values[0]\n",
      "        diff = pd.Series(df[val_col].values[:-1] - df[val_col].values[1:])\n",
      "        num_loss = diff.apply(lambda x: 1 if x < 0 else 0).sum()\n",
      "    else:\n",
      "        value = df[val_col].values[0]\n",
      "        num_loss = 0\n",
      "    res = [num_row, value, num_loss]\n",
      "    return res"
     ],
     "language": "python",
     "metadata": {},
     "outputs": [],
     "prompt_number": 494
    },
    {
     "cell_type": "code",
     "collapsed": false,
     "input": [
      "def countHistTrans(df):\n",
      "    \"\"\"Reference recent_val function to get num_row only\"\"\"\n",
      "    res = recent_val(df, date_col='transdate_previous', val_col='trans_val_2005', ascending = False)\n",
      "    return res[0]\n",
      "\n",
      "def getLastTransVal(df):\n",
      "    \"\"\"Reference recent_val function to get value only\"\"\"\n",
      "    res = recent_val(df, date_col='transdate_previous', val_col='trans_val_2005', ascending = False)\n",
      "    return res[1]\n",
      "\n",
      "def countLossTrans(df):\n",
      "    \"\"\"Reference recent_val function to get num_loss only\"\"\"\n",
      "    res = recent_val(df, date_col='transdate_previous', val_col='trans_val_2005', ascending = False)\n",
      "    return res[2]\n",
      "\n",
      "temp = train_df[['transdate_previous', 'trans_val_2005']].groupby(train_df.propertyid)\n",
      "## Count how many times the unit being traded\n",
      "hist_trans_cnt = temp.aggregate(countHistTrans)\n",
      "hist_trans_cnt = hist_trans_cnt.iloc[:, :1]\n",
      "#hist_trans_cnt.columns = 'hist_trans_cnt'\n",
      "## Extract the value of last transaction\n",
      "last_trans_val = temp.aggregate(getLastTransVal)\n",
      "last_trans_val= last_trans_val.iloc[:, :1]\n",
      "#last_trans_val.columns = 'last_trans_val'\n",
      "## Count how many times the house had been traded at loss position\n",
      "hist_loss_cnt = temp.aggregate(countLossTrans)\n",
      "hist_loss_cnt = hist_loss_cnt.iloc[:, :1]\n",
      "#hist_loss_cnt.columns = 'hist_loss_cnt'\n",
      "train_hist_summary = pd.concat([hist_trans_cnt, last_trans_val, hist_loss_cnt], axis=1)\n",
      "train_hist_summary.columns = ['hist_trans_cnt', 'last_trans_val_2005', 'hist_loss_cnt']\n",
      "del temp, hist_trans_cnt, last_trans_val, hist_loss_cnt"
     ],
     "language": "python",
     "metadata": {},
     "outputs": [],
     "prompt_number": 495
    },
    {
     "cell_type": "code",
     "collapsed": false,
     "input": [
      "## new_df (validation data) -------------------------------------------------------------\n",
      "temp = new_df[['transdate_previous', 'trans_val_2005']].groupby(new_df.propertyid)\n",
      "## Count how many times the unit being traded\n",
      "hist_trans_cnt = temp.aggregate(countHistTrans)\n",
      "hist_trans_cnt = hist_trans_cnt.iloc[:, :1]\n",
      "#hist_trans_cnt.columns = 'hist_trans_cnt'\n",
      "## Extract the value of last transaction\n",
      "last_trans_val = temp.aggregate(getLastTransVal)\n",
      "last_trans_val= last_trans_val.iloc[:, :1]\n",
      "#last_trans_val.columns = 'last_trans_val'\n",
      "## Count how many times the house had been traded at loss position\n",
      "hist_loss_cnt = temp.aggregate(countLossTrans)\n",
      "hist_loss_cnt = hist_loss_cnt.iloc[:, :1]\n",
      "#hist_loss_cnt.columns = 'hist_loss_cnt'\n",
      "new_hist_summary = pd.concat([hist_trans_cnt, last_trans_val, hist_loss_cnt], axis=1)\n",
      "new_hist_summary.columns = ['hist_trans_cnt', 'last_trans_val_2005', 'hist_loss_cnt']\n",
      "del temp, hist_trans_cnt, last_trans_val, hist_loss_cnt"
     ],
     "language": "python",
     "metadata": {},
     "outputs": [],
     "prompt_number": 496
    },
    {
     "cell_type": "code",
     "collapsed": false,
     "input": [
      "f, ax = plt.subplots(4, 1, figsize=(15, 10))\n",
      "train_hist_summary.hist_trans_cnt.hist(ax=ax[0])\n",
      "train_hist_summary.hist_loss_cnt.hist(ax=ax[1])\n",
      "seaborn.kdeplot(train_hist_summary.last_trans_val_2005.dropna(), ax=ax[2])\n",
      "seaborn.kdeplot(train_hist_summary.last_trans_val_2005.dropna().apply(lambda x: np.log10(x)), ax=ax[3])"
     ],
     "language": "python",
     "metadata": {},
     "outputs": [
      {
       "metadata": {},
       "output_type": "pyout",
       "prompt_number": 497,
       "text": [
        "<matplotlib.axes.AxesSubplot at 0x1183548d0>"
       ]
      },
      {
       "metadata": {},
       "output_type": "display_data",
       "png": "[encoded data removed]",
       "text": [
        "<matplotlib.figure.Figure at 0x11728cc50>"
       ]
      }
     ],
     "prompt_number": 497
    },
    {
     "cell_type": "code",
     "collapsed": false,
     "input": [
      "f, ax = plt.subplots(4, 1, figsize=(15, 10))\n",
      "new_hist_summary.hist_trans_cnt.hist(ax=ax[0])\n",
      "new_hist_summary.hist_loss_cnt.hist(ax=ax[1])\n",
      "seaborn.kdeplot(new_hist_summary.last_trans_val_2005.dropna(), ax=ax[2])\n",
      "seaborn.kdeplot(new_hist_summary.last_trans_val_2005.dropna().apply(lambda x: np.log10(x)), ax=ax[3])"
     ],
     "language": "python",
     "metadata": {},
     "outputs": [
      {
       "metadata": {},
       "output_type": "pyout",
       "prompt_number": 498,
       "text": [
        "<matplotlib.axes.AxesSubplot at 0x11bbcee90>"
       ]
      },
      {
       "metadata": {},
       "output_type": "display_data",
       "png": "[encoded data removed]",
       "text": [
        "<matplotlib.figure.Figure at 0x118074dd0>"
       ]
      }
     ],
     "prompt_number": 498
    },
    {
     "cell_type": "markdown",
     "metadata": {},
     "source": [
      "According the array of figures above, there are a set of outliers could been identified for either **extremely historical large trans value** or **being trades at loss position**."
     ]
    },
    {
     "cell_type": "code",
     "collapsed": false,
     "input": [
      "print train_df.shape, new_df.shape\n",
      "print train_df[features_info].shape, new_df[features_info].shape\n",
      "print train_hist_summary.shape, new_hist_summary.shape"
     ],
     "language": "python",
     "metadata": {},
     "outputs": [
      {
       "output_type": "stream",
       "stream": "stdout",
       "text": [
        "(2553, 50) (2496, 50)\n",
        "(2553, 39) (2496, 39)\n",
        "(2103, 3) (2066, 3)\n"
       ]
      }
     ],
     "prompt_number": 499
    },
    {
     "cell_type": "code",
     "collapsed": false,
     "input": [
      "train_df.drop_duplicates(['propertyid'], inplace=True)\n",
      "new_df.drop_duplicates(['propertyid'], inplace=True)\n",
      "train_df.set_index('propertyid', inplace=True)\n",
      "new_df.set_index('propertyid', inplace=True)"
     ],
     "language": "python",
     "metadata": {},
     "outputs": [],
     "prompt_number": 500
    },
    {
     "cell_type": "code",
     "collapsed": false,
     "input": [
      "print train_df.shape, new_df.shape\n",
      "print train_hist_summary.shape, new_hist_summary.shape\n",
      "print pd.Series(train_df.index).isin(list(train_hist_summary.index)).sum()\n",
      "print pd.Series(new_df.index).isin(list(new_hist_summary.index)).sum()"
     ],
     "language": "python",
     "metadata": {},
     "outputs": [
      {
       "output_type": "stream",
       "stream": "stdout",
       "text": [
        "(2103, 49) (2066, 49)\n",
        "(2103, 3) (2066, 3)\n",
        "2103\n",
        "2066\n"
       ]
      }
     ],
     "prompt_number": 554
    },
    {
     "cell_type": "raw",
     "metadata": {},
     "source": []
    },
    {
     "cell_type": "code",
     "collapsed": false,
     "input": [
      "train_df = pd.concat([train_df, train_hist_summary], axis=1)\n",
      "new_df = pd.concat([new_df,  new_hist_summary], axis=1)"
     ],
     "language": "python",
     "metadata": {},
     "outputs": [],
     "prompt_number": 555
    },
    {
     "cell_type": "code",
     "collapsed": false,
     "input": [
      "train_df['last_trans_logval_2005'] = train_df.last_trans_val_2005.apply(np.log10)\n",
      "new_df['last_trans_logval_2005'] = new_df.last_trans_val_2005.apply(np.log10)"
     ],
     "language": "python",
     "metadata": {},
     "outputs": [],
     "prompt_number": 568
    },
    {
     "cell_type": "code",
     "collapsed": false,
     "input": [
      "idx = []\n",
      "for i,val in enumerate(list(train_df.columns)):\n",
      "    res = val in features_info\n",
      "    if not res:\n",
      "        idx.append(i)\n",
      "    else:\n",
      "        pass\n",
      "pd.Series(list(train_df_int.columns))[idx]"
     ],
     "language": "python",
     "metadata": {},
     "outputs": [
      {
       "metadata": {},
       "output_type": "pyout",
       "prompt_number": 569,
       "text": [
        "1               transdate\n",
        "3      transdate_previous\n",
        "4     transvalue_previous\n",
        "13                usecode\n",
        "16         validation_idx\n",
        "23         trans_prev_ind\n",
        "24     trans_prev_numyear\n",
        "25         trans_val_2005\n",
        "33             view_type4\n",
        "37         transvalue_log\n",
        "38     trans_val_2005_log\n",
        "49         hist_trans_cnt\n",
        "50    last_trans_val_2005\n",
        "51          hist_loss_cnt\n",
        "52                    NaN\n",
        "dtype: object"
       ]
      }
     ],
     "prompt_number": 569
    },
    {
     "cell_type": "code",
     "collapsed": false,
     "input": [
      "predictors = ['zip', 'latitude', 'longitude', 'censustract', 'full_censustract',         # Location\n",
      "                  \n",
      "               'bathroomcnt', 'bedroomcnt', 'finishedsquarefeet', 'lotsizesquarefeet',    # Properties\n",
      "               'storycnt', 'viewtypeid', 'finished_lot_ratio', 'story_single_ind',        # Properties\n",
      "               'story_mult_ind', 'view_type0', 'view_type1', 'view_type2',                # Properties \n",
      "               'view_type3', 'view_type5','view_type6','builtyear',                       # Properties \n",
      "                 \n",
      "               'trans_build_age','transmonth', 'trans_spr_ind', 'trans_sum_ind',          # trans-date-related\n",
      "               'trans_fal_ind', 'trans_win_ind',                                          # trans-date-related\n",
      "                 \n",
      "                'res_ratio', 'bus_ratio', 'oth_ratio', 'tot_ratio', 'median_list_price',   # Extenal data on neigbourhood\n",
      "                'median_value_per_sqft', 'emp', 'qp1', 'ap', 'est',                         # Extenal data on neigbourhood\n",
      "                \n",
      "                'trans_prev_ind', 'hist_trans_cnt', 'last_trans_logval_2005', 'hist_loss_cnt'\n",
      "               ]\n",
      "\n",
      "response = [\"transvalue_log\"]\n"
     ],
     "language": "python",
     "metadata": {},
     "outputs": [],
     "prompt_number": 575
    },
    {
     "cell_type": "code",
     "collapsed": false,
     "input": [
      "X_train, y_train = train_df[predictors], train_df[response]\n",
      "X_new, y_new = new_df[predictors], new_df[response]"
     ],
     "language": "python",
     "metadata": {},
     "outputs": [],
     "prompt_number": 577
    },
    {
     "cell_type": "code",
     "collapsed": false,
     "input": [],
     "language": "python",
     "metadata": {},
     "outputs": [],
     "prompt_number": 537
    },
    {
     "cell_type": "code",
     "collapsed": false,
     "input": [],
     "language": "python",
     "metadata": {},
     "outputs": [],
     "prompt_number": 555
    },
    {
     "cell_type": "code",
     "collapsed": false,
     "input": [],
     "language": "python",
     "metadata": {},
     "outputs": [],
     "prompt_number": 555
    },
    {
     "cell_type": "code",
     "collapsed": false,
     "input": [],
     "language": "python",
     "metadata": {},
     "outputs": [
      {
       "html": [
        "<div style=\"max-height:1000px;max-width:1500px;overflow:auto;\">\n",
        "<table border=\"1\" class=\"dataframe\">\n",
        "  <thead>\n",
        "    <tr style=\"text-align: right;\">\n",
        "      <th></th>\n",
        "      <th>zip</th>\n",
        "      <th>transdate</th>\n",
        "      <th>hist_trans_cnt</th>\n",
        "      <th>last_trans_val_2005</th>\n",
        "    </tr>\n",
        "    <tr>\n",
        "      <th>propertyid</th>\n",
        "      <th></th>\n",
        "      <th></th>\n",
        "      <th></th>\n",
        "      <th></th>\n",
        "    </tr>\n",
        "  </thead>\n",
        "  <tbody>\n",
        "    <tr>\n",
        "      <th>48650729</th>\n",
        "      <td>   NaN</td>\n",
        "      <td>       NaT</td>\n",
        "      <td>  1</td>\n",
        "      <td> 169559.116387</td>\n",
        "    </tr>\n",
        "    <tr>\n",
        "      <th>48650769</th>\n",
        "      <td>   NaN</td>\n",
        "      <td>       NaT</td>\n",
        "      <td>  2</td>\n",
        "      <td> 196407.292224</td>\n",
        "    </tr>\n",
        "    <tr>\n",
        "      <th>48794725</th>\n",
        "      <td> 98001</td>\n",
        "      <td>2005-11-22</td>\n",
        "      <td>NaN</td>\n",
        "      <td>           NaN</td>\n",
        "    </tr>\n",
        "    <tr>\n",
        "      <th>48862721</th>\n",
        "      <td> 98001</td>\n",
        "      <td>2005-12-09</td>\n",
        "      <td>NaN</td>\n",
        "      <td>           NaN</td>\n",
        "    </tr>\n",
        "  </tbody>\n",
        "</table>\n",
        "</div>"
       ],
       "metadata": {},
       "output_type": "pyout",
       "prompt_number": 550,
       "text": [
        "              zip  transdate  hist_trans_cnt  last_trans_val_2005\n",
        "propertyid                                                       \n",
        "48650729      NaN        NaT               1        169559.116387\n",
        "48650769      NaN        NaT               2        196407.292224\n",
        "48794725    98001 2005-11-22             NaN                  NaN\n",
        "48862721    98001 2005-12-09             NaN                  NaN"
       ]
      }
     ],
     "prompt_number": 550
    },
    {
     "cell_type": "code",
     "collapsed": false,
     "input": [],
     "language": "python",
     "metadata": {},
     "outputs": []
    }
   ],
   "metadata": {}
  }
 ]
}